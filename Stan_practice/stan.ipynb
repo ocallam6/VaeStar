{
 "cells": [
  {
   "cell_type": "code",
   "execution_count": null,
   "metadata": {},
   "outputs": [],
   "source": []
  }
 ],
 "metadata": {
  "kernelspec": {
   "display_name": "Python 3.8.12 ('astro')",
   "language": "python",
   "name": "python3"
  },
  "language_info": {
   "name": "python",
   "version": "3.8.12"
  },
  "orig_nbformat": 4,
  "vscode": {
   "interpreter": {
    "hash": "388258d5dbd248a427ffb3173d4e076e3a6ff0d999334480b98d684a9efba49c"
   }
  }
 },
 "nbformat": 4,
 "nbformat_minor": 2
}
