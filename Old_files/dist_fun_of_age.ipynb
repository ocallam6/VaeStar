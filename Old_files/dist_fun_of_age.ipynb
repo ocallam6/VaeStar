{
 "cells": [
  {
   "cell_type": "markdown",
   "metadata": {},
   "source": [
    "# Find the perpendicular distance from a point to each isochrone as a function of age and also direct distance from Gaia parameters\n"
   ]
  },
  {
   "cell_type": "code",
   "execution_count": 1,
   "metadata": {},
   "outputs": [],
   "source": [
    "import pickle\n",
    "import os\n",
    "import seaborn as sn\n",
    "import pandas as pd\n",
    "import matplotlib.pyplot as plt\n",
    "import numpy as np\n",
    "os.chdir('Data')\n",
    "pkl_file = open('isochrones.pkl', 'rb')\n",
    "stacked_isochrones = pickle.load(pkl_file)\n",
    "\n",
    "pkl_file = open('columns.pkl', 'rb')\n",
    "x_columns = pickle.load(pkl_file)\n",
    "\n",
    "pkl_file = open('x_values.pkl', 'rb')\n",
    "x_values = pickle.load(pkl_file)\n",
    "\n",
    "pkl_file = open('isoc_cols.pkl', 'rb')\n",
    "isoc_columns = pickle.load(pkl_file)\n",
    "\n",
    "x_input=pd.read_csv('x_input')\n",
    "x_input_err=pd.read_csv('x_input_err')\n",
    "\n",
    "os.chdir('..')"
   ]
  },
  {
   "cell_type": "code",
   "execution_count": 2,
   "metadata": {},
   "outputs": [],
   "source": [
    "import torch\n",
    "def find_nearest(array, value):\n",
    "    #array = np.asarray(array)\n",
    "    idx = (torch.abs(array - value)).argmin()\n",
    "    return array[idx],idx\n",
    "\n",
    "def isochrone_selector(feh,age):\n",
    "    '''if(feh<-4 or feh>0.5):\n",
    "        raise NotImplementedError\n",
    "    if(age<5 or age>10.3):\n",
    "        raise NotImplementedError\n",
    "    else:'''\n",
    "    logagegrid = torch.tensor(np.linspace(5,10.3,105))\n",
    "    fehgrid = torch.tensor(np.linspace(-4,0.5,90))\n",
    "    feh,feh_idx=find_nearest(fehgrid,feh)\n",
    "    age,age_idx=find_nearest(logagegrid,age)\n",
    "\n",
    "    return feh_idx*len(logagegrid)+age_idx\n",
    "\n",
    "def column_index(name):\n",
    "    if name in x_columns:\n",
    "        return np.where(np.array(x_columns)==name)[0][0]\n",
    "    else:\n",
    "        return np.where(np.array(isoc_columns)==name)[0][0] +len(x_columns)"
   ]
  },
  {
   "cell_type": "code",
   "execution_count": 3,
   "metadata": {},
   "outputs": [
    {
     "data": {
      "text/plain": [
       "(10, 15, 435)"
      ]
     },
     "execution_count": 3,
     "metadata": {},
     "output_type": "execute_result"
    }
   ],
   "source": [
    "stacked_isochrones.shape"
   ]
  },
  {
   "cell_type": "markdown",
   "metadata": {},
   "source": [
    "# Find the perpendicular values"
   ]
  },
  {
   "cell_type": "code",
   "execution_count": 4,
   "metadata": {},
   "outputs": [],
   "source": [
    "stacked_isochrones=torch.tensor(stacked_isochrones)"
   ]
  },
  {
   "cell_type": "code",
   "execution_count": 5,
   "metadata": {},
   "outputs": [],
   "source": [
    "x_values=torch.tensor(x_values)"
   ]
  },
  {
   "cell_type": "code",
   "execution_count": 6,
   "metadata": {},
   "outputs": [
    {
     "data": {
      "text/plain": [
       "torch.Size([10, 15, 435])"
      ]
     },
     "execution_count": 6,
     "metadata": {},
     "output_type": "execute_result"
    }
   ],
   "source": [
    "stacked_isochrones.shape"
   ]
  },
  {
   "cell_type": "code",
   "execution_count": 7,
   "metadata": {},
   "outputs": [
    {
     "ename": "IndexError",
     "evalue": "index 1000 is out of bounds for dimension 0 with size 10",
     "output_type": "error",
     "traceback": [
      "\u001b[0;31m---------------------------------------------------------------------------\u001b[0m",
      "\u001b[0;31mIndexError\u001b[0m                                Traceback (most recent call last)",
      "\u001b[1;32m/Users/mattocallaghan/VaeStar/dist_fun_of_age.ipynb Cell 9'\u001b[0m in \u001b[0;36m<cell line: 1>\u001b[0;34m()\u001b[0m\n\u001b[0;32m----> <a href='vscode-notebook-cell:/Users/mattocallaghan/VaeStar/dist_fun_of_age.ipynb#ch0000008?line=0'>1</a>\u001b[0m isochrone\u001b[39m=\u001b[39mpd\u001b[39m.\u001b[39mDataFrame(np\u001b[39m.\u001b[39marray(stacked_isochrones[\u001b[39m1000\u001b[39;49m]),columns\u001b[39m=\u001b[39misoc_columns)\u001b[39m.\u001b[39mdropna()\n\u001b[1;32m      <a href='vscode-notebook-cell:/Users/mattocallaghan/VaeStar/dist_fun_of_age.ipynb#ch0000008?line=1'>2</a>\u001b[0m fig \u001b[39m=\u001b[39m plt\u001b[39m.\u001b[39mfigure(figsize\u001b[39m=\u001b[39m(\u001b[39m6\u001b[39m, \u001b[39m6\u001b[39m), dpi\u001b[39m=\u001b[39m\u001b[39m120\u001b[39m)\n\u001b[1;32m      <a href='vscode-notebook-cell:/Users/mattocallaghan/VaeStar/dist_fun_of_age.ipynb#ch0000008?line=3'>4</a>\u001b[0m plt\u001b[39m.\u001b[39mplot(isochrone[\u001b[39m'\u001b[39m\u001b[39mGaia_BP_EDR3\u001b[39m\u001b[39m'\u001b[39m]\u001b[39m-\u001b[39misochrone[\u001b[39m'\u001b[39m\u001b[39mGaia_RP_EDR3\u001b[39m\u001b[39m'\u001b[39m], isochrone[\u001b[39m'\u001b[39m\u001b[39mGaia_G_EDR3\u001b[39m\u001b[39m'\u001b[39m],\n\u001b[1;32m      <a href='vscode-notebook-cell:/Users/mattocallaghan/VaeStar/dist_fun_of_age.ipynb#ch0000008?line=4'>5</a>\u001b[0m                     )\n",
      "\u001b[0;31mIndexError\u001b[0m: index 1000 is out of bounds for dimension 0 with size 10"
     ]
    }
   ],
   "source": [
    "isochrone=pd.DataFrame(np.array(stacked_isochrones[1000]),columns=isoc_columns).dropna()\n",
    "fig = plt.figure(figsize=(6, 6), dpi=120)\n",
    "\n",
    "plt.plot(isochrone['Gaia_BP_EDR3']-isochrone['Gaia_RP_EDR3'], isochrone['Gaia_G_EDR3'],\n",
    "                    )\n",
    "    \n",
    "    \n",
    "\n",
    "plt.title('Plot of all the isochrones available')\n",
    "plt.ylim(20, -15)"
   ]
  },
  {
   "cell_type": "code",
   "execution_count": null,
   "metadata": {},
   "outputs": [
    {
     "ename": "",
     "evalue": "",
     "output_type": "error",
     "traceback": [
      "\u001b[1;31mJupyter cannot be started. Error attempting to locate jupyter: Select an Interpreter to start Jupyter\n",
      "Run the following command to install 'jupyter and notebook' into the Python environment. \n",
      "Command: 'python -m pip install jupyter notebook -U\n",
      "or\n",
      "conda install jupyter notebook -U'\n",
      "Click <a href='https://aka.ms/installJupyterForVSCode'>here</a> for more info."
     ]
    }
   ],
   "source": [
    "stacked_isochrones[0].shape"
   ]
  },
  {
   "cell_type": "code",
   "execution_count": null,
   "metadata": {},
   "outputs": [
    {
     "ename": "",
     "evalue": "",
     "output_type": "error",
     "traceback": [
      "\u001b[1;31mJupyter cannot be started. Error attempting to locate jupyter: Select an Interpreter to start Jupyter\n",
      "Run the following command to install 'jupyter and notebook' into the Python environment. \n",
      "Command: 'python -m pip install jupyter notebook -U\n",
      "or\n",
      "conda install jupyter notebook -U'\n",
      "Click <a href='https://aka.ms/installJupyterForVSCode'>here</a> for more info."
     ]
    }
   ],
   "source": [
    "x_values[0].shape\n",
    "\n",
    "isochrone=torch.cat([x_values[0],stacked_isochrones[isochrone_selector(x_values[0][column_index('mh_gspphot') ][0],5.6)]],dim=1)\n",
    "isochrone=isochrone.reshape((1,)+isochrone.shape)"
   ]
  },
  {
   "cell_type": "code",
   "execution_count": null,
   "metadata": {},
   "outputs": [
    {
     "ename": "",
     "evalue": "",
     "output_type": "error",
     "traceback": [
      "\u001b[1;31mJupyter cannot be started. Error attempting to locate jupyter: Select an Interpreter to start Jupyter\n",
      "Run the following command to install 'jupyter and notebook' into the Python environment. \n",
      "Command: 'python -m pip install jupyter notebook -U\n",
      "or\n",
      "conda install jupyter notebook -U'\n",
      "Click <a href='https://aka.ms/installJupyterForVSCode'>here</a> for more info."
     ]
    }
   ],
   "source": [
    "def perpendicular_dist(i,age):\n",
    "\n",
    "    p_slope_index=[]\n",
    "\n",
    "    isochrone=torch.cat([x_values[i],stacked_isochrones[isochrone_selector(x_values[i][column_index('mh_gspphot') ][0],age)]],dim=1)\n",
    "    isochrone=isochrone.reshape((1,)+isochrone.shape)\n",
    "\n",
    "\n",
    "    truth_1=(isochrone[:,:,column_index('G')]-(isochrone[:,:,column_index('bp_rp')])*isochrone[:,:,column_index('p_slopes')]<=isochrone[:,:,column_index('high_c')]) #box selection\n",
    "    truth_1=truth_1.reshape(truth_1.shape[0],truth_1.shape[1],1)\n",
    "    truth_2=(isochrone[:,:,column_index('low_c')]<=isochrone[:,:,column_index('G')]-(isochrone[:,:,column_index('bp_rp')])*isochrone[:,:,column_index('p_slopes')])\n",
    "    truth_2=truth_2.reshape(truth_2.shape[0],truth_2.shape[1],1)\n",
    "    truth=truth_1*truth_2\n",
    "    # ^box selection\n",
    "\n",
    "\n",
    "    # projection onto the nearest line\n",
    "    x=((1/torch.sqrt(1+isochrone[:,:,column_index('slopes')]**2))*(isochrone[:,:,column_index('G')]-(isochrone[:,:,column_index('bp_rp')])*isochrone[:,:,column_index('slopes')]-isochrone[:,:,column_index('Gaia_G_EDR3')] + isochrone[:,:,column_index('slopes')]*isochrone[:,:,column_index('BPRP')]))\n",
    "    # taking the minimum\n",
    "    idx=torch.argmin(torch.abs(x/truth.reshape(x.shape)).nan_to_num(nan=torch.inf),1)\n",
    "\n",
    "    p_slope_index.append(idx)\n",
    "\n",
    "    x=x.gather(1,idx.view(-1,1))\n",
    "    #error needs to be corrected for absolute magnitude \n",
    "    x_err=(1/(1+isochrone[:,:,column_index('slopes')]**2))*isochrone[:,:,column_index('phot_g_mean_mag_error')]**2+(isochrone[:,:,column_index('slopes')]*isochrone[:,:,column_index('bp_rp_error')])**2\n",
    "    x_err=x_err.gather(1,idx.view(-1,1))\n",
    "\n",
    "    isochrone=torch.cat((isochrone,x.reshape(x.shape[0],1,x.shape[1]).repeat(1,(isochrone).shape[1],1),x_err.reshape(x_err.shape[0],1,x_err.shape[1]).repeat(1,(isochrone).shape[1],1)),2)\n",
    "\n",
    "    \n",
    "    \n",
    "    try:# serious issues here\n",
    "        dist=torch.distributions.multivariate_normal.MultivariateNormal(torch.zeros_like(x),torch.eye(len(x))+torch.diag(x_err**2))\n",
    "        log_l=dist.log_prob(x)\n",
    "                \n",
    "\n",
    "    except:\n",
    "        print('error')\n",
    "        log_l=torch.inf\n",
    "\n",
    "    return log_l, isochrone, p_slope_index            "
   ]
  },
  {
   "cell_type": "code",
   "execution_count": null,
   "metadata": {},
   "outputs": [
    {
     "ename": "",
     "evalue": "",
     "output_type": "error",
     "traceback": [
      "\u001b[1;31mJupyter cannot be started. Error attempting to locate jupyter: Select an Interpreter to start Jupyter\n",
      "Run the following command to install 'jupyter and notebook' into the Python environment. \n",
      "Command: 'python -m pip install jupyter notebook -U\n",
      "or\n",
      "conda install jupyter notebook -U'\n",
      "Click <a href='https://aka.ms/installJupyterForVSCode'>here</a> for more info."
     ]
    }
   ],
   "source": [
    "l,isochrone,p_slopes=perpendicular_dist(100,7.5)"
   ]
  },
  {
   "cell_type": "code",
   "execution_count": null,
   "metadata": {},
   "outputs": [
    {
     "ename": "",
     "evalue": "",
     "output_type": "error",
     "traceback": [
      "\u001b[1;31mJupyter cannot be started. Error attempting to locate jupyter: Select an Interpreter to start Jupyter\n",
      "Run the following command to install 'jupyter and notebook' into the Python environment. \n",
      "Command: 'python -m pip install jupyter notebook -U\n",
      "or\n",
      "conda install jupyter notebook -U'\n",
      "Click <a href='https://aka.ms/installJupyterForVSCode'>here</a> for more info."
     ]
    }
   ],
   "source": [
    "isochrone.shape"
   ]
  },
  {
   "cell_type": "code",
   "execution_count": null,
   "metadata": {},
   "outputs": [
    {
     "ename": "",
     "evalue": "",
     "output_type": "error",
     "traceback": [
      "\u001b[1;31mJupyter cannot be started. Error attempting to locate jupyter: Select an Interpreter to start Jupyter\n",
      "Run the following command to install 'jupyter and notebook' into the Python environment. \n",
      "Command: 'python -m pip install jupyter notebook -U\n",
      "or\n",
      "conda install jupyter notebook -U'\n",
      "Click <a href='https://aka.ms/installJupyterForVSCode'>here</a> for more info."
     ]
    }
   ],
   "source": [
    "fig = plt.figure(figsize=(6, 6), dpi=120)\n",
    "\n",
    "plt.plot(isochrone[0,:,column_index('Gaia_BP_EDR3')]-isochrone[0,:,column_index('Gaia_RP_EDR3')], isochrone[0,:,column_index('Gaia_G_EDR3')],\n",
    "                    )\n",
    "    \n",
    "    \n",
    "\n",
    "plt.title('Plot of all the isochrones available')\n",
    "plt.ylim(20, -15)"
   ]
  },
  {
   "cell_type": "markdown",
   "metadata": {},
   "source": [
    "# Find perpendicular distances over all ages"
   ]
  },
  {
   "cell_type": "code",
   "execution_count": null,
   "metadata": {},
   "outputs": [
    {
     "ename": "",
     "evalue": "",
     "output_type": "error",
     "traceback": [
      "\u001b[1;31mJupyter cannot be started. Error attempting to locate jupyter: Select an Interpreter to start Jupyter\n",
      "Run the following command to install 'jupyter and notebook' into the Python environment. \n",
      "Command: 'python -m pip install jupyter notebook -U\n",
      "or\n",
      "conda install jupyter notebook -U'\n",
      "Click <a href='https://aka.ms/installJupyterForVSCode'>here</a> for more info."
     ]
    }
   ],
   "source": [
    "log_l=[]\n",
    "isocs=[]\n",
    "idxs=[]\n",
    "massgrid = 10*np.linspace(np.log10(0.1),np.log10(10), 1000)\n",
    "logagegrid = np.linspace(8,9.5,10)\n",
    "for age in logagegrid:\n",
    "    output=perpendicular_dist(20,age)\n",
    "    log_l.append(output[0])\n",
    "    isocs.append(output[1])\n",
    "    idxs.append(output[2])\n",
    "    "
   ]
  },
  {
   "cell_type": "code",
   "execution_count": null,
   "metadata": {},
   "outputs": [
    {
     "ename": "",
     "evalue": "",
     "output_type": "error",
     "traceback": [
      "\u001b[1;31mJupyter cannot be started. Error attempting to locate jupyter: Select an Interpreter to start Jupyter\n",
      "Run the following command to install 'jupyter and notebook' into the Python environment. \n",
      "Command: 'python -m pip install jupyter notebook -U\n",
      "or\n",
      "conda install jupyter notebook -U'\n",
      "Click <a href='https://aka.ms/installJupyterForVSCode'>here</a> for more info."
     ]
    }
   ],
   "source": [
    "log_l"
   ]
  },
  {
   "cell_type": "code",
   "execution_count": null,
   "metadata": {},
   "outputs": [
    {
     "ename": "",
     "evalue": "",
     "output_type": "error",
     "traceback": [
      "\u001b[1;31mJupyter cannot be started. Error attempting to locate jupyter: Select an Interpreter to start Jupyter\n",
      "Run the following command to install 'jupyter and notebook' into the Python environment. \n",
      "Command: 'python -m pip install jupyter notebook -U\n",
      "or\n",
      "conda install jupyter notebook -U'\n",
      "Click <a href='https://aka.ms/installJupyterForVSCode'>here</a> for more info."
     ]
    }
   ],
   "source": [
    "def isoc_column_index(name):\n",
    "    if name in x_columns:\n",
    "        return np.where(np.array(x_columns)==name)[0][0]\n",
    "    else:\n",
    "        return np.where(np.array(isoc_columns)==name)[0][0]"
   ]
  },
  {
   "cell_type": "code",
   "execution_count": null,
   "metadata": {},
   "outputs": [
    {
     "ename": "",
     "evalue": "",
     "output_type": "error",
     "traceback": [
      "\u001b[1;31mJupyter cannot be started. Error attempting to locate jupyter: Select an Interpreter to start Jupyter\n",
      "Run the following command to install 'jupyter and notebook' into the Python environment. \n",
      "Command: 'python -m pip install jupyter notebook -U\n",
      "or\n",
      "conda install jupyter notebook -U'\n",
      "Click <a href='https://aka.ms/installJupyterForVSCode'>here</a> for more info."
     ]
    }
   ],
   "source": [
    "fig = plt.figure(figsize=(6, 6), dpi=120)\n",
    "n=len(x_columns)\n",
    "list_logg=[]\n",
    "p_slopes=[]\n",
    "from matplotlib.pyplot import cm\n",
    "color = iter(cm.rainbow(np.linspace(0, 1, len(isocs))))\n",
    "\n",
    "for i in range(len(isocs)):\n",
    "    logg=isocs[i][0,:,column_index('logg_gspphot')][0]\n",
    "    \n",
    "    c=next(color)\n",
    "    isochrone=isocs[i]\n",
    "    plt.plot(isochrone[0,:,column_index('Gaia_BP_EDR3')]-isochrone[0,:,column_index('Gaia_RP_EDR3')], isochrone[0,:,column_index('Gaia_G_EDR3')],label=\"%.4f\" % float(isochrone[0,:,column_index('logage')][1]),c=c)\n",
    "    idx=find_nearest(isochrone[0,:,column_index('logg')].nan_to_num(torch.inf),float(logg))[1]\n",
    "    p_slopes.append(isochrone[0,idxs[i],column_index('p_slopes')])\n",
    "    plt.axline((isochrone[0,:,column_index('bp_rp')][0],isochrone[0,:,column_index('G')][0]), slope=p_slopes[i], linewidth=0.4, c=c)\n",
    "    plt.scatter(isochrone[0,int(idx),column_index('BPRP')],isochrone[0,int(idx),column_index('Gaia_G_EDR3')],s=15,marker='o',zorder=10,label=\"%.4f\" % float(isochrone[0,int(idx),column_index('logg')]),color=c)\n",
    "\n",
    "\n",
    "\n",
    "plt.scatter(isochrone[0,:,column_index('bp_rp')],isochrone[0,:,column_index('G')],s=15,marker='x',zorder=10,color='b',label=\"%.2f\" % float(isochrone[0,:,column_index('logg_gspphot')][1]))\n",
    "\n",
    "\n",
    "plt.title('Isochrones of different age and line to isochrone from point')\n",
    "plt.ylim(6, -5)\n",
    "plt.xlim(-1,2)\n",
    "plt.legend(loc=2, prop={'size': 6})\n",
    "plt.show()\n"
   ]
  },
  {
   "cell_type": "code",
   "execution_count": null,
   "metadata": {},
   "outputs": [
    {
     "ename": "",
     "evalue": "",
     "output_type": "error",
     "traceback": [
      "\u001b[1;31mJupyter cannot be started. Error attempting to locate jupyter: Select an Interpreter to start Jupyter\n",
      "Run the following command to install 'jupyter and notebook' into the Python environment. \n",
      "Command: 'python -m pip install jupyter notebook -U\n",
      "or\n",
      "conda install jupyter notebook -U'\n",
      "Click <a href='https://aka.ms/installJupyterForVSCode'>here</a> for more info."
     ]
    }
   ],
   "source": [
    "find_nearest(isochrone[0,:,column_index('logg')].nan_to_num(torch.inf),float(logg))\n",
    "idx=find_nearest(isochrone[0,:,column_index('logg')].nan_to_num(torch.inf),float(logg))[1]\n",
    "idx\n",
    "isochrone[0,int(idx),column_index('logg')]"
   ]
  },
  {
   "cell_type": "code",
   "execution_count": null,
   "metadata": {},
   "outputs": [
    {
     "ename": "",
     "evalue": "",
     "output_type": "error",
     "traceback": [
      "\u001b[1;31mJupyter cannot be started. Error attempting to locate jupyter: Select an Interpreter to start Jupyter\n",
      "Run the following command to install 'jupyter and notebook' into the Python environment. \n",
      "Command: 'python -m pip install jupyter notebook -U\n",
      "or\n",
      "conda install jupyter notebook -U'\n",
      "Click <a href='https://aka.ms/installJupyterForVSCode'>here</a> for more info."
     ]
    }
   ],
   "source": [
    "fig = plt.figure(figsize=(6, 6), dpi=120)\n",
    "n=len(x_columns)\n",
    "list_logg=[]\n",
    "p_slopes=[]\n",
    "from matplotlib.pyplot import cm\n",
    "color = iter(cm.rainbow(np.linspace(0, 1, len(isocs))))\n",
    "\n",
    "for i in range(len(isocs)):\n",
    "    c=next(color)\n",
    "    isochrone=isocs[i]\n",
    "    plt.plot(isochrone[0,:,column_index('Gaia_BP_EDR3')]-isochrone[0,:,column_index('Gaia_RP_EDR3')], isochrone[0,:,column_index('Gaia_G_EDR3')],label=\"%.4f\" % float(log_l[i]),c=c)\n",
    "    idx=find_nearest(isochrone[0,:,column_index('logg')].nan_to_num(torch.inf),float(logg))[1]\n",
    "    p_slopes.append(isochrone[0,idxs[i],column_index('p_slopes')])\n",
    "    plt.axline((isochrone[0,:,column_index('bp_rp')][0],isochrone[0,:,column_index('G')][0]), slope=p_slopes[i], linewidth=0.6, c=c)\n",
    "    plt.scatter(isochrone[0,:,column_index('bp_rp')],isochrone[0,:,column_index('G')],s=15,marker='x',zorder=10,color='b')\n",
    "    plt.scatter(isochrone[0,int(idx),column_index('BPRP')],isochrone[0,int(idx),column_index('Gaia_G_EDR3')],s=15,marker='o',zorder=10,label=\"%.4f\" % float(isochrone[0,:,column_index('logg')][1]),color=c)\n",
    "\n",
    "    try:\n",
    "        list_logg.append(isochrone[0,int(idx),:])\n",
    "    except:\n",
    "        print('err')\n",
    "        list_logg.append(torch.nan)\n",
    "\n",
    "\n",
    "\n",
    "\n",
    "    \n",
    "\n",
    "st=torch.stack(list_logg)\n",
    "#plt.scatter(st[:,column_index('BPRP')],st[:,column_index('Gaia_G_EDR3')],s=10,color='black',zorder=10)\n",
    "\n",
    "plt.title('Isochrones of different age with distance likelihood to point')\n",
    "plt.ylim(2.8, 2.4)\n",
    "plt.xlim(0.4,1)\n",
    "plt.legend(loc=2, prop={'size': 6})\n",
    "plt.show()"
   ]
  },
  {
   "cell_type": "code",
   "execution_count": null,
   "metadata": {},
   "outputs": [
    {
     "ename": "",
     "evalue": "",
     "output_type": "error",
     "traceback": [
      "\u001b[1;31mJupyter cannot be started. Error attempting to locate jupyter: Select an Interpreter to start Jupyter\n",
      "Run the following command to install 'jupyter and notebook' into the Python environment. \n",
      "Command: 'python -m pip install jupyter notebook -U\n",
      "or\n",
      "conda install jupyter notebook -U'\n",
      "Click <a href='https://aka.ms/installJupyterForVSCode'>here</a> for more info."
     ]
    }
   ],
   "source": [
    "dc=st[:,column_index('BPRP')][0]-isochrone[0,:,column_index('bp_rp')][0]\n",
    "dg=st[:,column_index('Gaia_G_EDR3')][0]-isochrone[0,:,column_index('G')][0]\n"
   ]
  },
  {
   "cell_type": "code",
   "execution_count": null,
   "metadata": {},
   "outputs": [
    {
     "ename": "",
     "evalue": "",
     "output_type": "error",
     "traceback": [
      "\u001b[1;31mJupyter cannot be started. Error attempting to locate jupyter: Select an Interpreter to start Jupyter\n",
      "Run the following command to install 'jupyter and notebook' into the Python environment. \n",
      "Command: 'python -m pip install jupyter notebook -U\n",
      "or\n",
      "conda install jupyter notebook -U'\n",
      "Click <a href='https://aka.ms/installJupyterForVSCode'>here</a> for more info."
     ]
    }
   ],
   "source": [
    "dc"
   ]
  },
  {
   "cell_type": "code",
   "execution_count": null,
   "metadata": {},
   "outputs": [
    {
     "ename": "",
     "evalue": "",
     "output_type": "error",
     "traceback": [
      "\u001b[1;31mJupyter cannot be started. Error attempting to locate jupyter: Select an Interpreter to start Jupyter\n",
      "Run the following command to install 'jupyter and notebook' into the Python environment. \n",
      "Command: 'python -m pip install jupyter notebook -U\n",
      "or\n",
      "conda install jupyter notebook -U'\n",
      "Click <a href='https://aka.ms/installJupyterForVSCode'>here</a> for more info."
     ]
    }
   ],
   "source": [
    "dg"
   ]
  },
  {
   "cell_type": "code",
   "execution_count": null,
   "metadata": {},
   "outputs": [
    {
     "ename": "",
     "evalue": "",
     "output_type": "error",
     "traceback": [
      "\u001b[1;31mJupyter cannot be started. Error attempting to locate jupyter: Select an Interpreter to start Jupyter\n",
      "Run the following command to install 'jupyter and notebook' into the Python environment. \n",
      "Command: 'python -m pip install jupyter notebook -U\n",
      "or\n",
      "conda install jupyter notebook -U'\n",
      "Click <a href='https://aka.ms/installJupyterForVSCode'>here</a> for more info."
     ]
    }
   ],
   "source": []
  },
  {
   "cell_type": "markdown",
   "metadata": {},
   "source": [
    "# One age and one metalicity for many points"
   ]
  },
  {
   "cell_type": "code",
   "execution_count": null,
   "metadata": {},
   "outputs": [
    {
     "ename": "",
     "evalue": "",
     "output_type": "error",
     "traceback": [
      "\u001b[1;31mJupyter cannot be started. Error attempting to locate jupyter: Select an Interpreter to start Jupyter\n",
      "Run the following command to install 'jupyter and notebook' into the Python environment. \n",
      "Command: 'python -m pip install jupyter notebook -U\n",
      "or\n",
      "conda install jupyter notebook -U'\n",
      "Click <a href='https://aka.ms/installJupyterForVSCode'>here</a> for more info."
     ]
    }
   ],
   "source": [
    "log_l=[]\n",
    "isocs=[]\n",
    "idxs=[]\n",
    "massgrid = 10*np.linspace(np.log10(0.1),np.log10(10), 1000)\n",
    "logagegrid = [8.5]#np.linspace(8,9.5,10)\n",
    "for age in logagegrid:\n",
    "    for i in range(int(len(x_values)/50)):\n",
    "        output=perpendicular_dist(50*i,age)\n",
    "        log_l.append(output[0])\n",
    "        isocs.append(output[1])\n",
    "        idxs.append(output[2])"
   ]
  },
  {
   "cell_type": "code",
   "execution_count": null,
   "metadata": {},
   "outputs": [
    {
     "ename": "",
     "evalue": "",
     "output_type": "error",
     "traceback": [
      "\u001b[1;31mJupyter cannot be started. Error attempting to locate jupyter: Select an Interpreter to start Jupyter\n",
      "Run the following command to install 'jupyter and notebook' into the Python environment. \n",
      "Command: 'python -m pip install jupyter notebook -U\n",
      "or\n",
      "conda install jupyter notebook -U'\n",
      "Click <a href='https://aka.ms/installJupyterForVSCode'>here</a> for more info."
     ]
    }
   ],
   "source": [
    "fig = plt.figure(figsize=(6, 6), dpi=120)\n",
    "n=len(x_columns)\n",
    "list_logg=[]\n",
    "p_slopes=[]\n",
    "from matplotlib.pyplot import cm\n",
    "color = iter(cm.rainbow(np.linspace(0, 1, len(isocs))))\n",
    "\n",
    "for i in range(len(isocs)):\n",
    "    logg=isocs[i][0,:,column_index('logg_gspphot')][0]\n",
    "    \n",
    "    c=next(color)\n",
    "    isochrone=isocs[i]\n",
    "    plt.plot(isochrone[0,:,column_index('Gaia_BP_EDR3')]-isochrone[0,:,column_index('Gaia_RP_EDR3')], isochrone[0,:,column_index('Gaia_G_EDR3')],c=c)\n",
    "    idx=find_nearest(isochrone[0,:,column_index('logg')].nan_to_num(torch.inf),float(logg))[1]\n",
    "    p_slope=(isochrone[0,idxs[i],column_index('p_slopes')])\n",
    "    plt.axline((isochrone[0,:,column_index('bp_rp')][0],isochrone[0,:,column_index('G')][0]), slope=p_slope, linewidth=0.4, c=c)\n",
    "    plt.scatter(isochrone[0,:,column_index('bp_rp')],isochrone[0,:,column_index('G')],s=15,marker='x',zorder=10,label=\"%.4f\" % float(isochrone[0,:,column_index('logg_gspphot')][1]),color=c)\n",
    "    plt.scatter(isochrone[0,int(idx),column_index('BPRP')],isochrone[0,int(idx),column_index('Gaia_G_EDR3')],s=15,marker='o',zorder=10,label=\"%.4f\" % float(isochrone[0,int(idx),column_index('logg')]),color=c)\n",
    "\n",
    "\n",
    "\n",
    "\n",
    "\n",
    "\n",
    "    \n",
    "\n",
    "#st=torch.stack(list_logg)\n",
    "#plt.scatter(st[:,column_index('BPRP')],st[:,column_index('Gaia_G_EDR3')],s=10,color='black',zorder=10)\n",
    "\n",
    "plt.title('log_g comparison')\n",
    "plt.ylim(6, -5)\n",
    "plt.xlim(-1,2)\n",
    "plt.legend(loc=2, prop={'size': 6})\n",
    "\n",
    "plt.show()\n"
   ]
  },
  {
   "cell_type": "code",
   "execution_count": null,
   "metadata": {},
   "outputs": [
    {
     "ename": "",
     "evalue": "",
     "output_type": "error",
     "traceback": [
      "\u001b[1;31mJupyter cannot be started. Error attempting to locate jupyter: Select an Interpreter to start Jupyter\n",
      "Run the following command to install 'jupyter and notebook' into the Python environment. \n",
      "Command: 'python -m pip install jupyter notebook -U\n",
      "or\n",
      "conda install jupyter notebook -U'\n",
      "Click <a href='https://aka.ms/installJupyterForVSCode'>here</a> for more info."
     ]
    }
   ],
   "source": [
    "find_nearest(isochrone[0,:,column_index('logg')].nan_to_num(torch.inf),float(logg))\n",
    "idx=find_nearest(isochrone[0,:,column_index('logg')].nan_to_num(torch.inf),float(logg))[1]\n",
    "idx\n",
    "isochrone[0,int(idx),column_index('logg')]"
   ]
  },
  {
   "cell_type": "code",
   "execution_count": null,
   "metadata": {},
   "outputs": [
    {
     "ename": "",
     "evalue": "",
     "output_type": "error",
     "traceback": [
      "\u001b[1;31mJupyter cannot be started. Error attempting to locate jupyter: Select an Interpreter to start Jupyter\n",
      "Run the following command to install 'jupyter and notebook' into the Python environment. \n",
      "Command: 'python -m pip install jupyter notebook -U\n",
      "or\n",
      "conda install jupyter notebook -U'\n",
      "Click <a href='https://aka.ms/installJupyterForVSCode'>here</a> for more info."
     ]
    }
   ],
   "source": [
    "logg"
   ]
  },
  {
   "cell_type": "code",
   "execution_count": null,
   "metadata": {},
   "outputs": [
    {
     "ename": "",
     "evalue": "",
     "output_type": "error",
     "traceback": [
      "\u001b[1;31mJupyter cannot be started. Error attempting to locate jupyter: Select an Interpreter to start Jupyter\n",
      "Run the following command to install 'jupyter and notebook' into the Python environment. \n",
      "Command: 'python -m pip install jupyter notebook -U\n",
      "or\n",
      "conda install jupyter notebook -U'\n",
      "Click <a href='https://aka.ms/installJupyterForVSCode'>here</a> for more info."
     ]
    }
   ],
   "source": [
    "fig = plt.figure(figsize=(6, 6), dpi=120)\n",
    "n=len(x_columns)\n",
    "list_logg=[]\n",
    "p_slopes=[]\n",
    "from matplotlib.pyplot import cm\n",
    "color = iter(cm.rainbow(np.linspace(0, 1, len(isocs))))\n",
    "\n",
    "isochrone=isocs[i]\n",
    "sn.scatterplot(x=(isochrone[0,:,column_index('Gaia_BP_EDR3')]-isochrone[0,:,column_index('Gaia_RP_EDR3')]),y= isochrone[0,:,column_index('Gaia_G_EDR3')],hue=isochrone[0,:,column_index('logg')],s=5)\n",
    "\n",
    "\n",
    "\n",
    "\n",
    "\n",
    "\n",
    "    \n",
    "\n",
    "#st=torch.stack(list_logg)\n",
    "#plt.scatter(st[:,column_index('BPRP')],st[:,column_index('Gaia_G_EDR3')],s=10,color='black',zorder=10)\n",
    "\n",
    "plt.title('log_g comparison')\n",
    "plt.ylim(20, -5)\n",
    "\n",
    "plt.legend(loc=2, prop={'size': 6})\n",
    "\n",
    "plt.show()"
   ]
  },
  {
   "cell_type": "code",
   "execution_count": null,
   "metadata": {},
   "outputs": [
    {
     "ename": "",
     "evalue": "",
     "output_type": "error",
     "traceback": [
      "\u001b[1;31mJupyter cannot be started. Error attempting to locate jupyter: Select an Interpreter to start Jupyter\n",
      "Run the following command to install 'jupyter and notebook' into the Python environment. \n",
      "Command: 'python -m pip install jupyter notebook -U\n",
      "or\n",
      "conda install jupyter notebook -U'\n",
      "Click <a href='https://aka.ms/installJupyterForVSCode'>here</a> for more info."
     ]
    }
   ],
   "source": []
  }
 ],
 "metadata": {
  "kernelspec": {
   "display_name": "Python 3.8.12 ('astro')",
   "language": "python",
   "name": "python3"
  },
  "language_info": {
   "codemirror_mode": {
    "name": "ipython",
    "version": 3
   },
   "file_extension": ".py",
   "mimetype": "text/x-python",
   "name": "python",
   "nbconvert_exporter": "python",
   "pygments_lexer": "ipython3",
   "version": "3.8.13"
  },
  "orig_nbformat": 4,
  "vscode": {
   "interpreter": {
    "hash": "388258d5dbd248a427ffb3173d4e076e3a6ff0d999334480b98d684a9efba49c"
   }
  }
 },
 "nbformat": 4,
 "nbformat_minor": 2
}
