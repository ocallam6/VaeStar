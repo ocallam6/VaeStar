{
 "cells": [
  {
   "cell_type": "code",
   "execution_count": 1,
   "metadata": {},
   "outputs": [],
   "source": [
    "import pickle\n",
    "import os\n",
    "import seaborn as sn\n",
    "import pandas as pd\n",
    "import matplotlib.pyplot as plt\n",
    "import numpy as np\n",
    "import torch\n",
    "os.chdir('..')\n",
    "from star_sample import Isochrones,StarSample\n",
    "os.chdir('Data')\n",
    "pkl_file = open('isochrones_high_lat.pkl', 'rb')\n",
    "\n",
    "Isochrone_hl = pickle.load(pkl_file)\n",
    "os.chdir('..')"
   ]
  },
  {
   "cell_type": "code",
   "execution_count": 2,
   "metadata": {},
   "outputs": [],
   "source": [
    "os.chdir('Data')\n",
    "pkl_file = open('high_lat_values.pkl', 'rb')\n",
    "\n",
    "High_Latitude_sample = pickle.load(pkl_file)\n",
    "os.chdir('..')"
   ]
  },
  {
   "cell_type": "code",
   "execution_count": 3,
   "metadata": {},
   "outputs": [],
   "source": [
    "High_Latitude_sample.data['G']=High_Latitude_sample.data['phot_g_mean_mag']-5*np.log10(High_Latitude_sample.data['r_med_geo'])+5"
   ]
  },
  {
   "cell_type": "code",
   "execution_count": 4,
   "metadata": {},
   "outputs": [],
   "source": [
    "High_Latitude_sample.data['K']=High_Latitude_sample.data['ks_m']-5*np.log10(High_Latitude_sample.data['r_med_geo'])+5"
   ]
  },
  {
   "cell_type": "code",
   "execution_count": 5,
   "metadata": {},
   "outputs": [],
   "source": [
    "High_Latitude_sample.data['jk']=High_Latitude_sample.data['j_m']-High_Latitude_sample.data['ks_m']"
   ]
  },
  {
   "cell_type": "code",
   "execution_count": 6,
   "metadata": {},
   "outputs": [],
   "source": [
    "High_Latitude_sample.data=High_Latitude_sample.data[High_Latitude_sample.data['ruwe']<1.75].reset_index(drop=True)"
   ]
  },
  {
   "cell_type": "markdown",
   "metadata": {},
   "source": [
    "# Cuts"
   ]
  },
  {
   "cell_type": "code",
   "execution_count": 7,
   "metadata": {},
   "outputs": [],
   "source": [
    "High_Latitude_sample.data=High_Latitude_sample.data.head(15)"
   ]
  },
  {
   "cell_type": "code",
   "execution_count": 8,
   "metadata": {},
   "outputs": [],
   "source": [
    "High_Latitude_sample.data=High_Latitude_sample.data[High_Latitude_sample.data['logg_gspphot']>4.3].reset_index(drop=True)\n",
    "High_Latitude_sample.data=High_Latitude_sample.data[High_Latitude_sample.data['logg_gspphot']<4.9].reset_index(drop=True)"
   ]
  },
  {
   "cell_type": "code",
   "execution_count": 9,
   "metadata": {},
   "outputs": [],
   "source": [
    "High_Latitude_sample.data=High_Latitude_sample.data[High_Latitude_sample.data['r_med_geo']<1000.0].reset_index(drop=True)\n"
   ]
  },
  {
   "cell_type": "code",
   "execution_count": 10,
   "metadata": {},
   "outputs": [],
   "source": [
    "#High_Latitude_sample.data=High_Latitude_sample.data[High_Latitude_sample.data['mh_gspphot']>-1.5].reset_index(drop=True)\n",
    "stacked_isochrones=Isochrone_hl.stack_isochrones()\n",
    "x_values=High_Latitude_sample.to_tensor(expandsize=stacked_isochrones.shape[-2])"
   ]
  },
  {
   "cell_type": "markdown",
   "metadata": {},
   "source": [
    "# Posterior Inference Numpyro"
   ]
  },
  {
   "cell_type": "code",
   "execution_count": 11,
   "metadata": {},
   "outputs": [],
   "source": [
    "import numpyro"
   ]
  },
  {
   "cell_type": "code",
   "execution_count": 12,
   "metadata": {},
   "outputs": [],
   "source": [
    "import numpyro\n",
    "from numpyro.infer import MCMC, NUTS, Predictive\n",
    "import numpyro.distributions as dist\n",
    "from jax import random\n",
    "import jax.numpy as jnp\n",
    "\n",
    "rng_key = random.PRNGKey(0)\n",
    "assert numpyro.__version__.startswith(\"0.10.1\")"
   ]
  },
  {
   "cell_type": "code",
   "execution_count": 13,
   "metadata": {},
   "outputs": [],
   "source": [
    "x_values=jnp.array(x_values)"
   ]
  },
  {
   "cell_type": "code",
   "execution_count": null,
   "metadata": {},
   "outputs": [],
   "source": [
    "stacked_isochrones=jnp.array(stacked_isochrones)"
   ]
  },
  {
   "cell_type": "code",
   "execution_count": 14,
   "metadata": {},
   "outputs": [],
   "source": [
    "import math"
   ]
  },
  {
   "cell_type": "code",
   "execution_count": 15,
   "metadata": {},
   "outputs": [],
   "source": [
    "x_columns=High_Latitude_sample.data.columns\n",
    "isoc_columns=Isochrone_hl.isochrones_list[0].columns\n",
    "def column_index(name):\n",
    "    if name in x_columns:\n",
    "        return np.where(np.array(x_columns)==name)[0][0]\n",
    "    else:\n",
    "        return np.where(np.array(isoc_columns)==name)[0][0] "
   ]
  },
  {
   "cell_type": "markdown",
   "metadata": {},
   "source": [
    "# Input data"
   ]
  },
  {
   "cell_type": "code",
   "execution_count": 16,
   "metadata": {},
   "outputs": [
    {
     "data": {
      "text/plain": [
       "3"
      ]
     },
     "execution_count": 16,
     "metadata": {},
     "output_type": "execute_result"
    }
   ],
   "source": [
    "m=math.atan(1.77)\n",
    "\n",
    "\n",
    "g_obs=x_values[:,0,column_index('phot_g_mean_mag')]\n",
    "g_obs_error=x_values[:,0,column_index('phot_g_mean_mag_error')]\n",
    "C_obs=x_values[:,0,column_index('bp_rp')]\n",
    "C_obs_error=x_values[:,0,column_index('bp_rp_error')]\n",
    "\n",
    "feh_values=x_values[:,0,column_index('feh')]\n",
    "feh_error=0.5\n",
    "\n",
    "parallax_obs=x_values[:,0,column_index('parallax')]\n",
    "parallax_obs_error=x_values[:,0,column_index('parallax_error')]\n",
    "\n",
    "n_samples=len(x_values)\n",
    "n_samples"
   ]
  },
  {
   "cell_type": "code",
   "execution_count": 17,
   "metadata": {},
   "outputs": [],
   "source": [
    "x_columns=High_Latitude_sample.data.columns\n",
    "isoc_columns=Isochrone_hl.isochrones_list[0].columns\n",
    "def column_index(name):\n",
    "    if name in x_columns:\n",
    "        return np.where(np.array(x_columns)==name)[0][0]\n",
    "    else:\n",
    "        return np.where(np.array(isoc_columns)==name)[0][0] "
   ]
  },
  {
   "cell_type": "code",
   "execution_count": null,
   "metadata": {},
   "outputs": [],
   "source": [
    "\n",
    "def column_index_2(name):\n",
    "    if name in x_columns:\n",
    "        return np.where(np.array(x_columns)==name)[0][0]\n",
    "    else:\n",
    "        return np.where(np.array(isoc_columns)==name)[0][0]"
   ]
  },
  {
   "cell_type": "code",
   "execution_count": null,
   "metadata": {},
   "outputs": [],
   "source": [
    "x_columns2=['G','bp_rp','teff_gspphot']\n",
    "def column_index(name):\n",
    "    if name in x_columns2:\n",
    "        return np.where(np.array(x_columns2)==name)[0][0]\n",
    "    else:\n",
    "        return np.where(np.array(isoc_columns)==name)[0][0] + len(x_columns2)"
   ]
  },
  {
   "cell_type": "code",
   "execution_count": null,
   "metadata": {},
   "outputs": [],
   "source": []
  },
  {
   "cell_type": "code",
   "execution_count": 18,
   "metadata": {},
   "outputs": [
    {
     "ename": "TypeError",
     "evalue": "unsupported operand type(s) for *: 'DeviceArray' and 'Tensor'",
     "output_type": "error",
     "traceback": [
      "\u001b[0;31m---------------------------------------------------------------------------\u001b[0m",
      "\u001b[0;31mTypeError\u001b[0m                                 Traceback (most recent call last)",
      "\u001b[1;32m/Users/mattocallaghan/VaeStar/High_latitude_sample/post_high_lat.ipynb Cell 21'\u001b[0m in \u001b[0;36m<cell line: 2>\u001b[0;34m()\u001b[0m\n\u001b[1;32m      <a href='vscode-notebook-cell:/Users/mattocallaghan/VaeStar/High_latitude_sample/post_high_lat.ipynb#ch0000022?line=2'>3</a>\u001b[0m G\u001b[39m=\u001b[39mjnp\u001b[39m.\u001b[39marray(x_values[:,:,column_index(\u001b[39m'\u001b[39m\u001b[39mG\u001b[39m\u001b[39m'\u001b[39m)][:,\u001b[39m0\u001b[39m][i])\n\u001b[1;32m      <a href='vscode-notebook-cell:/Users/mattocallaghan/VaeStar/High_latitude_sample/post_high_lat.ipynb#ch0000022?line=3'>4</a>\u001b[0m C\u001b[39m=\u001b[39mjnp\u001b[39m.\u001b[39marray(x_values[:,:,column_index(\u001b[39m'\u001b[39m\u001b[39mbp_rp\u001b[39m\u001b[39m'\u001b[39m)][:,\u001b[39m0\u001b[39m][i])\n\u001b[0;32m----> <a href='vscode-notebook-cell:/Users/mattocallaghan/VaeStar/High_latitude_sample/post_high_lat.ipynb#ch0000022?line=4'>5</a>\u001b[0m truth_1\u001b[39m=\u001b[39m(G\u001b[39m-\u001b[39m(C)\u001b[39m*\u001b[39;49misochrone[:,:,column_index(\u001b[39m'\u001b[39;49m\u001b[39mp_slopes\u001b[39;49m\u001b[39m'\u001b[39;49m)]\u001b[39m<\u001b[39m\u001b[39m=\u001b[39misochrone[:,:,column_index(\u001b[39m'\u001b[39m\u001b[39mhigh_c\u001b[39m\u001b[39m'\u001b[39m)]) \u001b[39m#box selection\u001b[39;00m\n\u001b[1;32m      <a href='vscode-notebook-cell:/Users/mattocallaghan/VaeStar/High_latitude_sample/post_high_lat.ipynb#ch0000022?line=5'>6</a>\u001b[0m truth_2\u001b[39m=\u001b[39m(isochrone[:,:,column_index(\u001b[39m'\u001b[39m\u001b[39mlow_c\u001b[39m\u001b[39m'\u001b[39m)]\u001b[39m<\u001b[39m\u001b[39m=\u001b[39mG\u001b[39m-\u001b[39m(C)\u001b[39m*\u001b[39misochrone[:,:,column_index(\u001b[39m'\u001b[39m\u001b[39mp_slopes\u001b[39m\u001b[39m'\u001b[39m)])\n\u001b[1;32m      <a href='vscode-notebook-cell:/Users/mattocallaghan/VaeStar/High_latitude_sample/post_high_lat.ipynb#ch0000022?line=6'>7</a>\u001b[0m truth\u001b[39m=\u001b[39mjnp\u001b[39m.\u001b[39mlogical_and(truth_1,truth_2)\n",
      "\u001b[0;31mTypeError\u001b[0m: unsupported operand type(s) for *: 'DeviceArray' and 'Tensor'"
     ]
    }
   ],
   "source": [
    "for i in range(len(x_values)):\n",
    "    if(i%500==0):\n",
    "        print(i)\n",
    "    G=jnp.array(x_values[i][0,column_index_2('G')])\n",
    "    C=jnp.array(x_values[i][0,column_index_2('bp_rp')])\n",
    "    teffmeas=jnp.array(x_values[i][0,column_index_2('teff_gspphot')])\n",
    "    \n",
    "    ones=jnp.ones_like((stacked_isochrones[:,:,column_index('G')]))\n",
    "    single_source=jnp.concatenate([(G*ones)[:,:,jnp.newaxis],(C*ones)[:,:,jnp.newaxis],(teffmeas*ones)[:,:,jnp.newaxis]],axis=-1)\n",
    "\n",
    "    isochrone=jnp.concatenate([single_source,stacked_isochrones],axis=-1)\n",
    "    truth_1=(isochrone[:,:,column_index('G')]-(isochrone[:,:,column_index('bp_rp')])*isochrone[:,:,column_index('p_slopes')]<=isochrone[:,:,column_index('high_c')]) #box selection\n",
    "    truth_2=(isochrone[:,:,column_index('low_c')]<=isochrone[:,:,column_index('G')]-(isochrone[:,:,column_index('bp_rp')])*isochrone[:,:,column_index('p_slopes')])\n",
    "    truth=jnp.logical_and(truth_1,truth_2)\n",
    "\n",
    "\n",
    "    a1=-1*isochrone[:,:,column_index('slopes')]\n",
    "    b1=1.0\n",
    "    c1=isochrone[:,:,column_index('slopes')]*isochrone[:,:,column_index('BPRP')]-isochrone[:,:,column_index('Gaia_G_EDR3')]\n",
    "\n",
    "\n",
    "    a2=-1*isochrone[:,:,column_index('p_slopes')]\n",
    "    b2=1.0\n",
    "    c2=isochrone[:,:,column_index('p_slopes')]*isochrone[:,:,column_index('bp_rp')]-isochrone[:,:,column_index('G')]\n",
    "\n",
    "\n",
    "    x=(b1*c2-b2*c1)/(a1*b2-a2*b1)\n",
    "    y=(a2*c1-a1*c2)/(a1*b2-a2*b1)\n",
    "\n",
    "    sgn=jnp.sign((y-isochrone[:,:,column_index('G')])/(x-isochrone[:,:,column_index('bp_rp')]))\n",
    "    \n",
    "    d=jnp.sqrt((x-isochrone[:,:,column_index('bp_rp')])**2+(y-isochrone[:,:,column_index('G')])**2)\n",
    "    \n",
    "    \n",
    "\n",
    "   \n",
    "    idx=(jnp.argmin(jnp.nan_to_num(jnp.abs(d/truth.reshape(d.shape)),nan=1e5),-1))\n",
    "    #sgn=jnp.take(sgn,indices=idx)\n",
    "    #sgn=jnp.array([sgn[i,idx[i]] for i in range(len(idx))])\n",
    "    #d=jnp.take(d,indices=idx)*sgn\n",
    "    #d=jnp.array([d[i,idx[i]] for i in range(len(idx))])*sgn\n",
    "\n",
    "    #x_ints=jnp.take(x,indices=idx)#jnp.array([x[i,idx[i]] for i in range(len(idx))])     \n",
    "    #y_ints=jnp.take(y,indices=idx)#jnp.array([y[i,idx[i]] for i in range(len(idx))])    \n",
    "    #logg=jnp.take(isochrone[:,:,column_index('logg')],indices=idx)#jnp.array([isochrone[i,idx[i],column_index('logg')] for i in range(len(idx))])\n",
    "    teff=jnp.take_along_axis(isochrone[:,:,column_index('logteff')],idx.reshape(len(isochrone[:,:,column_index('logteff')]),1),axis=-1)\n",
    "    #teff=jnp.take(isochrone[:,:,column_index('logteff')],indices=idx)#jnp.array([isochrone[i,idx[i],column_index('logteff')] for i in range(len(idx))])\n",
    "    #feh=jnp.take(isochrone[:,:,column_index('feh')],indices=idx)#jnp.array([isochrone[i,idx[i],column_index('feh')] for i in range(len(idx))])\n",
    "\n",
    "    pt=jnp.argmin(jnp.abs(teff-jnp.log10(teffmeas)))\n",
    "    #pt=jnp.argmin(jnp.abs(teff-jnp.log10(teffmeas)))\n",
    "\n",
    "    #pt=np.argmin(np.abs(feh-(isochrone[0,0,column_index('feh_calib')].numpy()))) \n",
    "    if i == 0:\n",
    "        stack=jnp.array(isochrone[pt,idx[pt],:])[jnp.newaxis,:]\n",
    "    else: \n",
    "        stack=jnp.concatenate([stack,jnp.array(isochrone[pt,idx[pt],:])[jnp.newaxis,:]])"
   ]
  },
  {
   "cell_type": "code",
   "execution_count": null,
   "metadata": {},
   "outputs": [],
   "source": []
  },
  {
   "cell_type": "code",
   "execution_count": null,
   "metadata": {},
   "outputs": [],
   "source": [
    "plx_zp=-0.029\n",
    "def model(g_obs,g_obs_error,C_obs,C_obs_error,parallax_obs,parallax_obs_error,feh_values,feh_error,n_samples):\n",
    "    log_L = numpyro.sample(\"log_L\", dist.Normal(np.log(370.0), 2.0))\n",
    "    L = numpyro.deterministic(\"L\", jnp.exp(log_L))\n",
    "    with numpyro.plate(\"plate_i\", n_samples):\n",
    "        d_dist = dist.TransformedDistribution(\n",
    "            dist.Chi2(6),\n",
    "            dist.transforms.AffineTransform(\n",
    "                0.0, 0.5 * L, domain=dist.constraints.positive\n",
    "            ),\n",
    "        )\n",
    "        d=numpyro.sample('d',d_dist,rng_key=rng_key)\n",
    "        ag=numpyro.sample('ag',dist.Uniform(low=0,high=5),rng_key=rng_key)       \n",
    "        feh=numpyro.sample('feh',dist.TransformedDistribution(dist.Normal(0.0,1.0),dist.transforms.AffineTransform(-0.5,0.9,domain=dist.constraints.interval(-4.0,0.5)))) #could be anything\n",
    "\n",
    "    #age_list=np.array([9.0])\n",
    "    #stacked_isochrones=Isochrone_hl.stack_isochrones_subsample(feh.static(),age_list)\n",
    "    G=jnp.array(stacked_isochrones[:,:,column_index('Gaia_G_EDR3')])\n",
    "    G=jnp.nan_to_num(G,nan=jnp.inf)\n",
    "    C=jnp.array(stacked_isochrones[:,:,column_index('BPRP')])\n",
    "    C=jnp.nan_to_num(C,nan=jnp.inf)\n",
    "    C=numpyro.deterministic(\"C\",C+ag[:,jnp.newaxis]/1.77)\n",
    "    g=numpyro.deterministic(\n",
    "            \"g\", G +ag[:,jnp.newaxis]+5.0*jnp.log10(d[:,jnp.newaxis])-5.0\n",
    "        )\n",
    "\n",
    "\n",
    "    with numpyro.plate(\"data\", n_samples):\n",
    "        plx = numpyro.deterministic(\"plx\", 1000.0 / d + plx_zp)\n",
    "        numpyro.sample(\"plx_obs\", dist.Normal(plx, parallax_obs_error), obs=parallax_obs)    \n",
    "        numpyro.sample(\"feh_obs\", dist.Normal(feh, feh_error), obs=feh_values)\n",
    "        numpyro.sample('g_obs',dist.MultivariateNormal(g,g_obs_error[:,jnp.newaxis,jnp.newaxis]*jnp.eye(g.shape[-1])),obs=g_obs[:,jnp.newaxis]*jnp.ones(g.shape[-1])[jnp.newaxis,:])\n",
    "        numpyro.sample('C_obs',dist.MultivariateNormal(C,C_obs_error[:,jnp.newaxis,jnp.newaxis]*jnp.eye(g.shape[-1])),obs=C_obs[:,jnp.newaxis]*jnp.ones(C.shape[-1])[jnp.newaxis,:])\n",
    "\n"
   ]
  },
  {
   "cell_type": "code",
   "execution_count": null,
   "metadata": {},
   "outputs": [
    {
     "ename": "RuntimeError",
     "evalue": "Cannot find valid initial parameters. Please check your model again.",
     "output_type": "error",
     "traceback": [
      "\u001b[0;31m---------------------------------------------------------------------------\u001b[0m",
      "\u001b[0;31mRuntimeError\u001b[0m                              Traceback (most recent call last)",
      "\u001b[1;32m/Users/mattocallaghan/VaeStar/High_latitude_sample/post_high_lat.ipynb Cell 27'\u001b[0m in \u001b[0;36m<cell line: 4>\u001b[0;34m()\u001b[0m\n\u001b[1;32m      <a href='vscode-notebook-cell:/Users/mattocallaghan/VaeStar/High_latitude_sample/post_high_lat.ipynb#ch0000024?line=0'>1</a>\u001b[0m nuts_kernel \u001b[39m=\u001b[39m NUTS(model)\n\u001b[1;32m      <a href='vscode-notebook-cell:/Users/mattocallaghan/VaeStar/High_latitude_sample/post_high_lat.ipynb#ch0000024?line=2'>3</a>\u001b[0m mcmc \u001b[39m=\u001b[39m MCMC(nuts_kernel, num_samples\u001b[39m=\u001b[39m\u001b[39m2000\u001b[39m, num_warmup\u001b[39m=\u001b[39m\u001b[39m2000\u001b[39m)\n\u001b[0;32m----> <a href='vscode-notebook-cell:/Users/mattocallaghan/VaeStar/High_latitude_sample/post_high_lat.ipynb#ch0000024?line=3'>4</a>\u001b[0m mcmc\u001b[39m.\u001b[39;49mrun(rng_key, g_obs,g_obs_error,C_obs,C_obs_error,parallax_obs,parallax_obs_error,feh_values,feh_error,n_samples)\n\u001b[1;32m      <a href='vscode-notebook-cell:/Users/mattocallaghan/VaeStar/High_latitude_sample/post_high_lat.ipynb#ch0000024?line=5'>6</a>\u001b[0m posterior_samples \u001b[39m=\u001b[39m mcmc\u001b[39m.\u001b[39mget_samples()\n",
      "File \u001b[0;32m/opt/homebrew/Caskroom/miniforge/base/envs/astro/lib/python3.8/site-packages/numpyro/infer/mcmc.py:593\u001b[0m, in \u001b[0;36mMCMC.run\u001b[0;34m(self, rng_key, extra_fields, init_params, *args, **kwargs)\u001b[0m\n\u001b[1;32m    <a href='file:///opt/homebrew/Caskroom/miniforge/base/envs/astro/lib/python3.8/site-packages/numpyro/infer/mcmc.py?line=590'>591</a>\u001b[0m map_args \u001b[39m=\u001b[39m (rng_key, init_state, init_params)\n\u001b[1;32m    <a href='file:///opt/homebrew/Caskroom/miniforge/base/envs/astro/lib/python3.8/site-packages/numpyro/infer/mcmc.py?line=591'>592</a>\u001b[0m \u001b[39mif\u001b[39;00m \u001b[39mself\u001b[39m\u001b[39m.\u001b[39mnum_chains \u001b[39m==\u001b[39m \u001b[39m1\u001b[39m:\n\u001b[0;32m--> <a href='file:///opt/homebrew/Caskroom/miniforge/base/envs/astro/lib/python3.8/site-packages/numpyro/infer/mcmc.py?line=592'>593</a>\u001b[0m     states_flat, last_state \u001b[39m=\u001b[39m partial_map_fn(map_args)\n\u001b[1;32m    <a href='file:///opt/homebrew/Caskroom/miniforge/base/envs/astro/lib/python3.8/site-packages/numpyro/infer/mcmc.py?line=593'>594</a>\u001b[0m     states \u001b[39m=\u001b[39m tree_map(\u001b[39mlambda\u001b[39;00m x: x[jnp\u001b[39m.\u001b[39mnewaxis, \u001b[39m.\u001b[39m\u001b[39m.\u001b[39m\u001b[39m.\u001b[39m], states_flat)\n\u001b[1;32m    <a href='file:///opt/homebrew/Caskroom/miniforge/base/envs/astro/lib/python3.8/site-packages/numpyro/infer/mcmc.py?line=594'>595</a>\u001b[0m \u001b[39melse\u001b[39;00m:\n",
      "File \u001b[0;32m/opt/homebrew/Caskroom/miniforge/base/envs/astro/lib/python3.8/site-packages/numpyro/infer/mcmc.py:381\u001b[0m, in \u001b[0;36mMCMC._single_chain_mcmc\u001b[0;34m(self, init, args, kwargs, collect_fields)\u001b[0m\n\u001b[1;32m    <a href='file:///opt/homebrew/Caskroom/miniforge/base/envs/astro/lib/python3.8/site-packages/numpyro/infer/mcmc.py?line=378'>379</a>\u001b[0m rng_key, init_state, init_params \u001b[39m=\u001b[39m init\n\u001b[1;32m    <a href='file:///opt/homebrew/Caskroom/miniforge/base/envs/astro/lib/python3.8/site-packages/numpyro/infer/mcmc.py?line=379'>380</a>\u001b[0m \u001b[39mif\u001b[39;00m init_state \u001b[39mis\u001b[39;00m \u001b[39mNone\u001b[39;00m:\n\u001b[0;32m--> <a href='file:///opt/homebrew/Caskroom/miniforge/base/envs/astro/lib/python3.8/site-packages/numpyro/infer/mcmc.py?line=380'>381</a>\u001b[0m     init_state \u001b[39m=\u001b[39m \u001b[39mself\u001b[39;49m\u001b[39m.\u001b[39;49msampler\u001b[39m.\u001b[39;49minit(\n\u001b[1;32m    <a href='file:///opt/homebrew/Caskroom/miniforge/base/envs/astro/lib/python3.8/site-packages/numpyro/infer/mcmc.py?line=381'>382</a>\u001b[0m         rng_key,\n\u001b[1;32m    <a href='file:///opt/homebrew/Caskroom/miniforge/base/envs/astro/lib/python3.8/site-packages/numpyro/infer/mcmc.py?line=382'>383</a>\u001b[0m         \u001b[39mself\u001b[39;49m\u001b[39m.\u001b[39;49mnum_warmup,\n\u001b[1;32m    <a href='file:///opt/homebrew/Caskroom/miniforge/base/envs/astro/lib/python3.8/site-packages/numpyro/infer/mcmc.py?line=383'>384</a>\u001b[0m         init_params,\n\u001b[1;32m    <a href='file:///opt/homebrew/Caskroom/miniforge/base/envs/astro/lib/python3.8/site-packages/numpyro/infer/mcmc.py?line=384'>385</a>\u001b[0m         model_args\u001b[39m=\u001b[39;49margs,\n\u001b[1;32m    <a href='file:///opt/homebrew/Caskroom/miniforge/base/envs/astro/lib/python3.8/site-packages/numpyro/infer/mcmc.py?line=385'>386</a>\u001b[0m         model_kwargs\u001b[39m=\u001b[39;49mkwargs,\n\u001b[1;32m    <a href='file:///opt/homebrew/Caskroom/miniforge/base/envs/astro/lib/python3.8/site-packages/numpyro/infer/mcmc.py?line=386'>387</a>\u001b[0m     )\n\u001b[1;32m    <a href='file:///opt/homebrew/Caskroom/miniforge/base/envs/astro/lib/python3.8/site-packages/numpyro/infer/mcmc.py?line=387'>388</a>\u001b[0m sample_fn, postprocess_fn \u001b[39m=\u001b[39m \u001b[39mself\u001b[39m\u001b[39m.\u001b[39m_get_cached_fns()\n\u001b[1;32m    <a href='file:///opt/homebrew/Caskroom/miniforge/base/envs/astro/lib/python3.8/site-packages/numpyro/infer/mcmc.py?line=388'>389</a>\u001b[0m diagnostics \u001b[39m=\u001b[39m (\n\u001b[1;32m    <a href='file:///opt/homebrew/Caskroom/miniforge/base/envs/astro/lib/python3.8/site-packages/numpyro/infer/mcmc.py?line=389'>390</a>\u001b[0m     \u001b[39mlambda\u001b[39;00m x: \u001b[39mself\u001b[39m\u001b[39m.\u001b[39msampler\u001b[39m.\u001b[39mget_diagnostics_str(x[\u001b[39m0\u001b[39m])\n\u001b[1;32m    <a href='file:///opt/homebrew/Caskroom/miniforge/base/envs/astro/lib/python3.8/site-packages/numpyro/infer/mcmc.py?line=390'>391</a>\u001b[0m     \u001b[39mif\u001b[39;00m rng_key\u001b[39m.\u001b[39mndim \u001b[39m==\u001b[39m \u001b[39m1\u001b[39m\n\u001b[1;32m    <a href='file:///opt/homebrew/Caskroom/miniforge/base/envs/astro/lib/python3.8/site-packages/numpyro/infer/mcmc.py?line=391'>392</a>\u001b[0m     \u001b[39melse\u001b[39;00m \u001b[39m\"\u001b[39m\u001b[39m\"\u001b[39m\n\u001b[1;32m    <a href='file:///opt/homebrew/Caskroom/miniforge/base/envs/astro/lib/python3.8/site-packages/numpyro/infer/mcmc.py?line=392'>393</a>\u001b[0m )  \u001b[39m# noqa: E731\u001b[39;00m\n",
      "File \u001b[0;32m/opt/homebrew/Caskroom/miniforge/base/envs/astro/lib/python3.8/site-packages/numpyro/infer/hmc.py:706\u001b[0m, in \u001b[0;36mHMC.init\u001b[0;34m(self, rng_key, num_warmup, init_params, model_args, model_kwargs)\u001b[0m\n\u001b[1;32m    <a href='file:///opt/homebrew/Caskroom/miniforge/base/envs/astro/lib/python3.8/site-packages/numpyro/infer/hmc.py?line=700'>701</a>\u001b[0m \u001b[39m# vectorized\u001b[39;00m\n\u001b[1;32m    <a href='file:///opt/homebrew/Caskroom/miniforge/base/envs/astro/lib/python3.8/site-packages/numpyro/infer/hmc.py?line=701'>702</a>\u001b[0m \u001b[39melse\u001b[39;00m:\n\u001b[1;32m    <a href='file:///opt/homebrew/Caskroom/miniforge/base/envs/astro/lib/python3.8/site-packages/numpyro/infer/hmc.py?line=702'>703</a>\u001b[0m     rng_key, rng_key_init_model \u001b[39m=\u001b[39m jnp\u001b[39m.\u001b[39mswapaxes(\n\u001b[1;32m    <a href='file:///opt/homebrew/Caskroom/miniforge/base/envs/astro/lib/python3.8/site-packages/numpyro/infer/hmc.py?line=703'>704</a>\u001b[0m         vmap(random\u001b[39m.\u001b[39msplit)(rng_key), \u001b[39m0\u001b[39m, \u001b[39m1\u001b[39m\n\u001b[1;32m    <a href='file:///opt/homebrew/Caskroom/miniforge/base/envs/astro/lib/python3.8/site-packages/numpyro/infer/hmc.py?line=704'>705</a>\u001b[0m     )\n\u001b[0;32m--> <a href='file:///opt/homebrew/Caskroom/miniforge/base/envs/astro/lib/python3.8/site-packages/numpyro/infer/hmc.py?line=705'>706</a>\u001b[0m init_params \u001b[39m=\u001b[39m \u001b[39mself\u001b[39;49m\u001b[39m.\u001b[39;49m_init_state(\n\u001b[1;32m    <a href='file:///opt/homebrew/Caskroom/miniforge/base/envs/astro/lib/python3.8/site-packages/numpyro/infer/hmc.py?line=706'>707</a>\u001b[0m     rng_key_init_model, model_args, model_kwargs, init_params\n\u001b[1;32m    <a href='file:///opt/homebrew/Caskroom/miniforge/base/envs/astro/lib/python3.8/site-packages/numpyro/infer/hmc.py?line=707'>708</a>\u001b[0m )\n\u001b[1;32m    <a href='file:///opt/homebrew/Caskroom/miniforge/base/envs/astro/lib/python3.8/site-packages/numpyro/infer/hmc.py?line=708'>709</a>\u001b[0m \u001b[39mif\u001b[39;00m \u001b[39mself\u001b[39m\u001b[39m.\u001b[39m_potential_fn \u001b[39mand\u001b[39;00m init_params \u001b[39mis\u001b[39;00m \u001b[39mNone\u001b[39;00m:\n\u001b[1;32m    <a href='file:///opt/homebrew/Caskroom/miniforge/base/envs/astro/lib/python3.8/site-packages/numpyro/infer/hmc.py?line=709'>710</a>\u001b[0m     \u001b[39mraise\u001b[39;00m \u001b[39mValueError\u001b[39;00m(\n\u001b[1;32m    <a href='file:///opt/homebrew/Caskroom/miniforge/base/envs/astro/lib/python3.8/site-packages/numpyro/infer/hmc.py?line=710'>711</a>\u001b[0m         \u001b[39m\"\u001b[39m\u001b[39mValid value of `init_params` must be provided with\u001b[39m\u001b[39m\"\u001b[39m \u001b[39m\"\u001b[39m\u001b[39m `potential_fn`.\u001b[39m\u001b[39m\"\u001b[39m\n\u001b[1;32m    <a href='file:///opt/homebrew/Caskroom/miniforge/base/envs/astro/lib/python3.8/site-packages/numpyro/infer/hmc.py?line=711'>712</a>\u001b[0m     )\n",
      "File \u001b[0;32m/opt/homebrew/Caskroom/miniforge/base/envs/astro/lib/python3.8/site-packages/numpyro/infer/hmc.py:652\u001b[0m, in \u001b[0;36mHMC._init_state\u001b[0;34m(self, rng_key, model_args, model_kwargs, init_params)\u001b[0m\n\u001b[1;32m    <a href='file:///opt/homebrew/Caskroom/miniforge/base/envs/astro/lib/python3.8/site-packages/numpyro/infer/hmc.py?line=649'>650</a>\u001b[0m \u001b[39mdef\u001b[39;00m \u001b[39m_init_state\u001b[39m(\u001b[39mself\u001b[39m, rng_key, model_args, model_kwargs, init_params):\n\u001b[1;32m    <a href='file:///opt/homebrew/Caskroom/miniforge/base/envs/astro/lib/python3.8/site-packages/numpyro/infer/hmc.py?line=650'>651</a>\u001b[0m     \u001b[39mif\u001b[39;00m \u001b[39mself\u001b[39m\u001b[39m.\u001b[39m_model \u001b[39mis\u001b[39;00m \u001b[39mnot\u001b[39;00m \u001b[39mNone\u001b[39;00m:\n\u001b[0;32m--> <a href='file:///opt/homebrew/Caskroom/miniforge/base/envs/astro/lib/python3.8/site-packages/numpyro/infer/hmc.py?line=651'>652</a>\u001b[0m         init_params, potential_fn, postprocess_fn, model_trace \u001b[39m=\u001b[39m initialize_model(\n\u001b[1;32m    <a href='file:///opt/homebrew/Caskroom/miniforge/base/envs/astro/lib/python3.8/site-packages/numpyro/infer/hmc.py?line=652'>653</a>\u001b[0m             rng_key,\n\u001b[1;32m    <a href='file:///opt/homebrew/Caskroom/miniforge/base/envs/astro/lib/python3.8/site-packages/numpyro/infer/hmc.py?line=653'>654</a>\u001b[0m             \u001b[39mself\u001b[39;49m\u001b[39m.\u001b[39;49m_model,\n\u001b[1;32m    <a href='file:///opt/homebrew/Caskroom/miniforge/base/envs/astro/lib/python3.8/site-packages/numpyro/infer/hmc.py?line=654'>655</a>\u001b[0m             dynamic_args\u001b[39m=\u001b[39;49m\u001b[39mTrue\u001b[39;49;00m,\n\u001b[1;32m    <a href='file:///opt/homebrew/Caskroom/miniforge/base/envs/astro/lib/python3.8/site-packages/numpyro/infer/hmc.py?line=655'>656</a>\u001b[0m             init_strategy\u001b[39m=\u001b[39;49m\u001b[39mself\u001b[39;49m\u001b[39m.\u001b[39;49m_init_strategy,\n\u001b[1;32m    <a href='file:///opt/homebrew/Caskroom/miniforge/base/envs/astro/lib/python3.8/site-packages/numpyro/infer/hmc.py?line=656'>657</a>\u001b[0m             model_args\u001b[39m=\u001b[39;49mmodel_args,\n\u001b[1;32m    <a href='file:///opt/homebrew/Caskroom/miniforge/base/envs/astro/lib/python3.8/site-packages/numpyro/infer/hmc.py?line=657'>658</a>\u001b[0m             model_kwargs\u001b[39m=\u001b[39;49mmodel_kwargs,\n\u001b[1;32m    <a href='file:///opt/homebrew/Caskroom/miniforge/base/envs/astro/lib/python3.8/site-packages/numpyro/infer/hmc.py?line=658'>659</a>\u001b[0m             forward_mode_differentiation\u001b[39m=\u001b[39;49m\u001b[39mself\u001b[39;49m\u001b[39m.\u001b[39;49m_forward_mode_differentiation,\n\u001b[1;32m    <a href='file:///opt/homebrew/Caskroom/miniforge/base/envs/astro/lib/python3.8/site-packages/numpyro/infer/hmc.py?line=659'>660</a>\u001b[0m         )\n\u001b[1;32m    <a href='file:///opt/homebrew/Caskroom/miniforge/base/envs/astro/lib/python3.8/site-packages/numpyro/infer/hmc.py?line=660'>661</a>\u001b[0m         \u001b[39mif\u001b[39;00m \u001b[39mself\u001b[39m\u001b[39m.\u001b[39m_init_fn \u001b[39mis\u001b[39;00m \u001b[39mNone\u001b[39;00m:\n\u001b[1;32m    <a href='file:///opt/homebrew/Caskroom/miniforge/base/envs/astro/lib/python3.8/site-packages/numpyro/infer/hmc.py?line=661'>662</a>\u001b[0m             \u001b[39mself\u001b[39m\u001b[39m.\u001b[39m_init_fn, \u001b[39mself\u001b[39m\u001b[39m.\u001b[39m_sample_fn \u001b[39m=\u001b[39m hmc(\n\u001b[1;32m    <a href='file:///opt/homebrew/Caskroom/miniforge/base/envs/astro/lib/python3.8/site-packages/numpyro/infer/hmc.py?line=662'>663</a>\u001b[0m                 potential_fn_gen\u001b[39m=\u001b[39mpotential_fn,\n\u001b[1;32m    <a href='file:///opt/homebrew/Caskroom/miniforge/base/envs/astro/lib/python3.8/site-packages/numpyro/infer/hmc.py?line=663'>664</a>\u001b[0m                 kinetic_fn\u001b[39m=\u001b[39m\u001b[39mself\u001b[39m\u001b[39m.\u001b[39m_kinetic_fn,\n\u001b[1;32m    <a href='file:///opt/homebrew/Caskroom/miniforge/base/envs/astro/lib/python3.8/site-packages/numpyro/infer/hmc.py?line=664'>665</a>\u001b[0m                 algo\u001b[39m=\u001b[39m\u001b[39mself\u001b[39m\u001b[39m.\u001b[39m_algo,\n\u001b[1;32m    <a href='file:///opt/homebrew/Caskroom/miniforge/base/envs/astro/lib/python3.8/site-packages/numpyro/infer/hmc.py?line=665'>666</a>\u001b[0m             )\n",
      "File \u001b[0;32m/opt/homebrew/Caskroom/miniforge/base/envs/astro/lib/python3.8/site-packages/numpyro/infer/util.py:698\u001b[0m, in \u001b[0;36minitialize_model\u001b[0;34m(rng_key, model, init_strategy, dynamic_args, model_args, model_kwargs, forward_mode_differentiation, validate_grad)\u001b[0m\n\u001b[1;32m    <a href='file:///opt/homebrew/Caskroom/miniforge/base/envs/astro/lib/python3.8/site-packages/numpyro/infer/util.py?line=684'>685</a>\u001b[0m                             w\u001b[39m.\u001b[39mmessage\u001b[39m.\u001b[39margs \u001b[39m=\u001b[39m (\n\u001b[1;32m    <a href='file:///opt/homebrew/Caskroom/miniforge/base/envs/astro/lib/python3.8/site-packages/numpyro/infer/util.py?line=685'>686</a>\u001b[0m                                 \u001b[39m\"\u001b[39m\u001b[39mSite \u001b[39m\u001b[39m{}\u001b[39;00m\u001b[39m: \u001b[39m\u001b[39m{}\u001b[39;00m\u001b[39m\"\u001b[39m\u001b[39m.\u001b[39mformat(\n\u001b[1;32m    <a href='file:///opt/homebrew/Caskroom/miniforge/base/envs/astro/lib/python3.8/site-packages/numpyro/infer/util.py?line=686'>687</a>\u001b[0m                                     site[\u001b[39m\"\u001b[39m\u001b[39mname\u001b[39m\u001b[39m\"\u001b[39m], w\u001b[39m.\u001b[39mmessage\u001b[39m.\u001b[39margs[\u001b[39m0\u001b[39m]\n\u001b[1;32m    <a href='file:///opt/homebrew/Caskroom/miniforge/base/envs/astro/lib/python3.8/site-packages/numpyro/infer/util.py?line=687'>688</a>\u001b[0m                                 ),\n\u001b[1;32m    <a href='file:///opt/homebrew/Caskroom/miniforge/base/envs/astro/lib/python3.8/site-packages/numpyro/infer/util.py?line=688'>689</a>\u001b[0m                             ) \u001b[39m+\u001b[39m w\u001b[39m.\u001b[39mmessage\u001b[39m.\u001b[39margs[\u001b[39m1\u001b[39m:]\n\u001b[1;32m    <a href='file:///opt/homebrew/Caskroom/miniforge/base/envs/astro/lib/python3.8/site-packages/numpyro/infer/util.py?line=689'>690</a>\u001b[0m                             warnings\u001b[39m.\u001b[39mshowwarning(\n\u001b[1;32m    <a href='file:///opt/homebrew/Caskroom/miniforge/base/envs/astro/lib/python3.8/site-packages/numpyro/infer/util.py?line=690'>691</a>\u001b[0m                                 w\u001b[39m.\u001b[39mmessage,\n\u001b[1;32m    <a href='file:///opt/homebrew/Caskroom/miniforge/base/envs/astro/lib/python3.8/site-packages/numpyro/infer/util.py?line=691'>692</a>\u001b[0m                                 w\u001b[39m.\u001b[39mcategory,\n\u001b[0;32m   (...)\u001b[0m\n\u001b[1;32m    <a href='file:///opt/homebrew/Caskroom/miniforge/base/envs/astro/lib/python3.8/site-packages/numpyro/infer/util.py?line=695'>696</a>\u001b[0m                                 line\u001b[39m=\u001b[39mw\u001b[39m.\u001b[39mline,\n\u001b[1;32m    <a href='file:///opt/homebrew/Caskroom/miniforge/base/envs/astro/lib/python3.8/site-packages/numpyro/infer/util.py?line=696'>697</a>\u001b[0m                             )\n\u001b[0;32m--> <a href='file:///opt/homebrew/Caskroom/miniforge/base/envs/astro/lib/python3.8/site-packages/numpyro/infer/util.py?line=697'>698</a>\u001b[0m         \u001b[39mraise\u001b[39;00m \u001b[39mRuntimeError\u001b[39;00m(\n\u001b[1;32m    <a href='file:///opt/homebrew/Caskroom/miniforge/base/envs/astro/lib/python3.8/site-packages/numpyro/infer/util.py?line=698'>699</a>\u001b[0m             \u001b[39m\"\u001b[39m\u001b[39mCannot find valid initial parameters. Please check your model again.\u001b[39m\u001b[39m\"\u001b[39m\n\u001b[1;32m    <a href='file:///opt/homebrew/Caskroom/miniforge/base/envs/astro/lib/python3.8/site-packages/numpyro/infer/util.py?line=699'>700</a>\u001b[0m         )\n\u001b[1;32m    <a href='file:///opt/homebrew/Caskroom/miniforge/base/envs/astro/lib/python3.8/site-packages/numpyro/infer/util.py?line=700'>701</a>\u001b[0m \u001b[39mreturn\u001b[39;00m ModelInfo(\n\u001b[1;32m    <a href='file:///opt/homebrew/Caskroom/miniforge/base/envs/astro/lib/python3.8/site-packages/numpyro/infer/util.py?line=701'>702</a>\u001b[0m     ParamInfo(init_params, pe, grad), potential_fn, postprocess_fn, model_trace\n\u001b[1;32m    <a href='file:///opt/homebrew/Caskroom/miniforge/base/envs/astro/lib/python3.8/site-packages/numpyro/infer/util.py?line=702'>703</a>\u001b[0m )\n",
      "\u001b[0;31mRuntimeError\u001b[0m: Cannot find valid initial parameters. Please check your model again."
     ]
    }
   ],
   "source": [
    "nuts_kernel = NUTS(model)\n",
    "\n",
    "mcmc = MCMC(nuts_kernel, num_samples=2000, num_warmup=2000)\n",
    "mcmc.run(rng_key, g_obs,g_obs_error,C_obs,C_obs_error,parallax_obs,parallax_obs_error,feh_values,feh_error,n_samples)\n",
    "\n",
    "posterior_samples = mcmc.get_samples()"
   ]
  }
 ],
 "metadata": {
  "interpreter": {
   "hash": "0bb95e0f03a712b005f38a08e86b3d9ee1481e5da27c42212222567f4ca651c8"
  },
  "kernelspec": {
   "display_name": "Python 3.8.13 ('astro')",
   "language": "python",
   "name": "python3"
  },
  "language_info": {
   "codemirror_mode": {
    "name": "ipython",
    "version": 3
   },
   "file_extension": ".py",
   "mimetype": "text/x-python",
   "name": "python",
   "nbconvert_exporter": "python",
   "pygments_lexer": "ipython3",
   "version": "3.8.13"
  },
  "orig_nbformat": 4
 },
 "nbformat": 4,
 "nbformat_minor": 2
}
