{
 "cells": [
  {
   "cell_type": "markdown",
   "metadata": {},
   "source": [
    "# Find the perpendicular distance from a point to each isochrone of a given age and also direct distance from Gaia parameters\n"
   ]
  },
  {
   "cell_type": "code",
   "execution_count": 1,
   "metadata": {},
   "outputs": [],
   "source": [
    "import pickle\n",
    "import os\n",
    "import seaborn as sn\n",
    "import pandas as pd\n",
    "import matplotlib.pyplot as plt\n",
    "import numpy as np\n",
    "os.chdir('Data')\n",
    "pkl_file = open('isochrones.pkl', 'rb')\n",
    "stacked_isochrones = pickle.load(pkl_file)\n",
    "\n",
    "pkl_file = open('columns.pkl', 'rb')\n",
    "x_columns = pickle.load(pkl_file)\n",
    "\n",
    "pkl_file = open('x_values.pkl', 'rb')\n",
    "x_values = pickle.load(pkl_file)\n",
    "\n",
    "pkl_file = open('isoc_cols.pkl', 'rb')\n",
    "isoc_columns = pickle.load(pkl_file)\n",
    "\n",
    "x_input=pd.read_csv('x_input')\n",
    "x_input_err=pd.read_csv('x_input_err')\n",
    "\n",
    "os.chdir('..')"
   ]
  },
  {
   "cell_type": "code",
   "execution_count": 2,
   "metadata": {},
   "outputs": [],
   "source": [
    "import torch\n",
    "def find_nearest(array, value):\n",
    "    #array = np.asarray(array)\n",
    "    idx = (torch.abs(array - value)).argmin()\n",
    "    return array[idx],idx\n",
    "\n",
    "def isochrone_selector(feh,age):\n",
    "    '''if(feh<-4 or feh>0.5):\n",
    "        raise NotImplementedError\n",
    "    if(age<5 or age>10.3):\n",
    "        raise NotImplementedError\n",
    "    else:'''\n",
    "    logagegrid = torch.tensor(np.linspace(5,10.3,105))\n",
    "    fehgrid = torch.tensor(np.linspace(-4,0.5,90))\n",
    "    feh,feh_idx=find_nearest(fehgrid,feh)\n",
    "    age,age_idx=find_nearest(logagegrid,age)\n",
    "\n",
    "    return feh_idx*len(logagegrid)+age_idx\n",
    "\n",
    "def column_index(name):\n",
    "    if name in x_columns:\n",
    "        return np.where(np.array(x_columns)==name)[0][0]\n",
    "    else:\n",
    "        return np.where(np.array(isoc_columns)==name)[0][0] +len(x_columns)"
   ]
  },
  {
   "cell_type": "code",
   "execution_count": 10,
   "metadata": {},
   "outputs": [
    {
     "data": {
      "text/plain": [
       "torch.Size([10, 15, 435])"
      ]
     },
     "execution_count": 10,
     "metadata": {},
     "output_type": "execute_result"
    }
   ],
   "source": [
    "stacked_isochrones.shape"
   ]
  },
  {
   "cell_type": "markdown",
   "metadata": {},
   "source": [
    "# Find the perpendicular values"
   ]
  },
  {
   "cell_type": "code",
   "execution_count": 4,
   "metadata": {},
   "outputs": [],
   "source": [
    "stacked_isochrones=torch.tensor(stacked_isochrones)"
   ]
  },
  {
   "cell_type": "code",
   "execution_count": 5,
   "metadata": {},
   "outputs": [],
   "source": [
    "x_values=torch.tensor(x_values)"
   ]
  },
  {
   "cell_type": "code",
   "execution_count": 6,
   "metadata": {},
   "outputs": [
    {
     "data": {
      "text/plain": [
       "torch.Size([10, 15, 435])"
      ]
     },
     "execution_count": 6,
     "metadata": {},
     "output_type": "execute_result"
    }
   ],
   "source": [
    "stacked_isochrones.shape"
   ]
  },
  {
   "cell_type": "code",
   "execution_count": 7,
   "metadata": {},
   "outputs": [],
   "source": [
    "def perpendicular_dist(i,age):\n",
    "\n",
    "    isochrone=torch.cat([x_values[i],stacked_isochrones[isochrone_selector(x_values[i][column_index('mh_gspphot') ][0],age)]],dim=0)\n",
    "    isochrone=isochrone.reshape((1,)+isochrone.shape)\n",
    "\n",
    "\n",
    "    truth_1=(isochrone[:,column_index('G'),:]+-(isochrone[:,column_index('bp_rp'),:])*isochrone[:,column_index('p_slopes'),:]<=isochrone[:,column_index('high_c'),:]) #box selection\n",
    "    truth_1=truth_1.reshape(truth_1.shape[0],1,truth_1.shape[1])\n",
    "    truth_2=(isochrone[:,column_index('low_c'),:]<=isochrone[:,column_index('G'),:]-(isochrone[:,column_index('bp_rp'),:])*isochrone[:,column_index('p_slopes'),:])\n",
    "    truth_2=truth_2.reshape(truth_2.shape[0],1,truth_2.shape[1])\n",
    "    truth=truth_1*truth_2\n",
    "    # ^box selection\n",
    "\n",
    "    # projection onto the nearest line\n",
    "    x=((1/torch.sqrt(1+isochrone[:,column_index('slopes'),:]**2))*(isochrone[:,column_index('G'),:]-(isochrone[:,column_index('bp_rp'),:])*isochrone[:,column_index('slopes'),:]-isochrone[:,column_index('Gaia_G_EDR3'),:] + isochrone[:,column_index('slopes'),:]*isochrone[:,column_index('BPRP'),:]))\n",
    "    # taking the minimum\n",
    "    idx=torch.argmin(torch.abs(x/truth.reshape(x.shape)).nan_to_num(nan=torch.inf),1)\n",
    "    x=x.gather(1,idx.view(-1,1))\n",
    "    #error needs to be corrected for absolute magnitude \n",
    "    x_err=(1/(1+isochrone[:,column_index('slopes'),:]**2))*isochrone[:,column_index('phot_g_mean_mag_error'),:]**2+(isochrone[:,column_index('slopes'),:]*isochrone[:,column_index('bp_rp_error'),:])**2\n",
    "    x_err=x_err.gather(1,idx.view(-1,1))\n",
    "    isochrone=torch.cat((isochrone,x.reshape(x.shape[0],1,x.shape[1]).repeat(1,1,(isochrone).shape[-1]),x_err.reshape(x_err.shape[0],1,x_err.shape[1]).repeat(1,1,(isochrone).shape[-1])),1)\n",
    "\n",
    "    dist=torch.distributions.multivariate_normal.MultivariateNormal(torch.zeros_like(x),torch.eye(len(x))+torch.diag(x_err**2))\n",
    "    \n",
    "    try:# serious issues here\n",
    "                \n",
    "        log_l=dist.log_prob(x)\n",
    "                \n",
    "\n",
    "    except:\n",
    "                \n",
    "        log_l=0.0\n",
    "\n",
    "    return log_l, isochrone            "
   ]
  },
  {
   "cell_type": "code",
   "execution_count": 8,
   "metadata": {},
   "outputs": [
    {
     "ename": "IndexError",
     "evalue": "index 6845 is out of bounds for dimension 0 with size 10",
     "output_type": "error",
     "traceback": [
      "\u001b[0;31m---------------------------------------------------------------------------\u001b[0m",
      "\u001b[0;31mIndexError\u001b[0m                                Traceback (most recent call last)",
      "\u001b[1;32m/Users/mattocallaghan/VaeStar/perp_and_logg.ipynb Cell 10'\u001b[0m in \u001b[0;36m<cell line: 1>\u001b[0;34m()\u001b[0m\n\u001b[0;32m----> <a href='vscode-notebook-cell:/Users/mattocallaghan/VaeStar/perp_and_logg.ipynb#ch0000011?line=0'>1</a>\u001b[0m perpendicular_dist(\u001b[39m1\u001b[39;49m,\u001b[39m6\u001b[39;49m)\n",
      "\u001b[1;32m/Users/mattocallaghan/VaeStar/perp_and_logg.ipynb Cell 9'\u001b[0m in \u001b[0;36mperpendicular_dist\u001b[0;34m(i, age)\u001b[0m\n\u001b[1;32m      <a href='vscode-notebook-cell:/Users/mattocallaghan/VaeStar/perp_and_logg.ipynb#ch0000008?line=0'>1</a>\u001b[0m \u001b[39mdef\u001b[39;00m \u001b[39mperpendicular_dist\u001b[39m(i,age):\n\u001b[0;32m----> <a href='vscode-notebook-cell:/Users/mattocallaghan/VaeStar/perp_and_logg.ipynb#ch0000008?line=2'>3</a>\u001b[0m     isochrone\u001b[39m=\u001b[39mtorch\u001b[39m.\u001b[39mcat([x_values[i],stacked_isochrones[isochrone_selector(x_values[i][column_index(\u001b[39m'\u001b[39;49m\u001b[39mmh_gspphot\u001b[39;49m\u001b[39m'\u001b[39;49m) ][\u001b[39m0\u001b[39;49m],age)]],dim\u001b[39m=\u001b[39m\u001b[39m0\u001b[39m)\n\u001b[1;32m      <a href='vscode-notebook-cell:/Users/mattocallaghan/VaeStar/perp_and_logg.ipynb#ch0000008?line=3'>4</a>\u001b[0m     isochrone\u001b[39m=\u001b[39misochrone\u001b[39m.\u001b[39mreshape((\u001b[39m1\u001b[39m,)\u001b[39m+\u001b[39misochrone\u001b[39m.\u001b[39mshape)\n\u001b[1;32m      <a href='vscode-notebook-cell:/Users/mattocallaghan/VaeStar/perp_and_logg.ipynb#ch0000008?line=6'>7</a>\u001b[0m     truth_1\u001b[39m=\u001b[39m(isochrone[:,column_index(\u001b[39m'\u001b[39m\u001b[39mG\u001b[39m\u001b[39m'\u001b[39m),:]\u001b[39m+\u001b[39m\u001b[39m-\u001b[39m(isochrone[:,column_index(\u001b[39m'\u001b[39m\u001b[39mbp_rp\u001b[39m\u001b[39m'\u001b[39m),:])\u001b[39m*\u001b[39misochrone[:,column_index(\u001b[39m'\u001b[39m\u001b[39mp_slopes\u001b[39m\u001b[39m'\u001b[39m),:]\u001b[39m<\u001b[39m\u001b[39m=\u001b[39misochrone[:,column_index(\u001b[39m'\u001b[39m\u001b[39mhigh_c\u001b[39m\u001b[39m'\u001b[39m),:]) \u001b[39m#box selection\u001b[39;00m\n",
      "\u001b[0;31mIndexError\u001b[0m: index 6845 is out of bounds for dimension 0 with size 10"
     ]
    }
   ],
   "source": [
    "perpendicular_dist(1,6)"
   ]
  },
  {
   "cell_type": "code",
   "execution_count": null,
   "metadata": {},
   "outputs": [],
   "source": []
  }
 ],
 "metadata": {
  "interpreter": {
   "hash": "0bb95e0f03a712b005f38a08e86b3d9ee1481e5da27c42212222567f4ca651c8"
  },
  "kernelspec": {
   "display_name": "Python 3.8.13 ('astro')",
   "language": "python",
   "name": "python3"
  },
  "language_info": {
   "codemirror_mode": {
    "name": "ipython",
    "version": 3
   },
   "file_extension": ".py",
   "mimetype": "text/x-python",
   "name": "python",
   "nbconvert_exporter": "python",
   "pygments_lexer": "ipython3",
   "version": "3.8.13"
  },
  "orig_nbformat": 4
 },
 "nbformat": 4,
 "nbformat_minor": 2
}
