{
 "cells": [
  {
   "cell_type": "markdown",
   "metadata": {},
   "source": [
    "# Find the perpendicular distance from a point to each isochrone as a function of age and also direct distance from Gaia parameters\n"
   ]
  },
  {
   "cell_type": "code",
   "execution_count": 2,
   "metadata": {},
   "outputs": [],
   "source": [
    "import pickle\n",
    "import os\n",
    "import seaborn as sn\n",
    "import pandas as pd\n",
    "import matplotlib.pyplot as plt\n",
    "import numpy as np\n",
    "os.chdir('Data')\n",
    "pkl_file = open('isochrones.pkl', 'rb')\n",
    "stacked_isochrones = pickle.load(pkl_file)\n",
    "\n",
    "pkl_file = open('columns.pkl', 'rb')\n",
    "x_columns = pickle.load(pkl_file)\n",
    "\n",
    "pkl_file = open('x_values.pkl', 'rb')\n",
    "x_values = pickle.load(pkl_file)\n",
    "\n",
    "pkl_file = open('isoc_cols.pkl', 'rb')\n",
    "isoc_columns = pickle.load(pkl_file)\n",
    "\n",
    "x_input=pd.read_csv('x_input')\n",
    "x_input_err=pd.read_csv('x_input_err')\n",
    "\n",
    "os.chdir('..')"
   ]
  },
  {
   "cell_type": "code",
   "execution_count": 3,
   "metadata": {},
   "outputs": [],
   "source": [
    "import torch\n",
    "def find_nearest(array, value):\n",
    "    #array = np.asarray(array)\n",
    "    idx = (torch.abs(array - value)).argmin()\n",
    "    return array[idx],idx\n",
    "\n",
    "def isochrone_selector(feh,age):\n",
    "    '''if(feh<-4 or feh>0.5):\n",
    "        raise NotImplementedError\n",
    "    if(age<5 or age>10.3):\n",
    "        raise NotImplementedError\n",
    "    else:'''\n",
    "    logagegrid = torch.tensor(np.linspace(5,10.3,105))\n",
    "    fehgrid = torch.tensor(np.linspace(-4,0.5,90))\n",
    "    feh,feh_idx=find_nearest(fehgrid,feh)\n",
    "    age,age_idx=find_nearest(logagegrid,age)\n",
    "\n",
    "    return feh_idx*len(logagegrid)+age_idx\n",
    "\n",
    "def column_index(name):\n",
    "    if name in x_columns:\n",
    "        return np.where(np.array(x_columns)==name)[0][0]\n",
    "    else:\n",
    "        return np.where(np.array(isoc_columns)==name)[0][0] +len(x_columns)"
   ]
  },
  {
   "cell_type": "code",
   "execution_count": 4,
   "metadata": {},
   "outputs": [
    {
     "data": {
      "text/plain": [
       "(9450, 15, 457)"
      ]
     },
     "execution_count": 4,
     "metadata": {},
     "output_type": "execute_result"
    }
   ],
   "source": [
    "stacked_isochrones.shape"
   ]
  },
  {
   "cell_type": "markdown",
   "metadata": {},
   "source": [
    "# Find the perpendicular values"
   ]
  },
  {
   "cell_type": "code",
   "execution_count": 5,
   "metadata": {},
   "outputs": [],
   "source": [
    "stacked_isochrones=torch.tensor(stacked_isochrones)"
   ]
  },
  {
   "cell_type": "code",
   "execution_count": 6,
   "metadata": {},
   "outputs": [],
   "source": [
    "x_values=torch.tensor(x_values)"
   ]
  },
  {
   "cell_type": "code",
   "execution_count": 7,
   "metadata": {},
   "outputs": [
    {
     "data": {
      "text/plain": [
       "torch.Size([9450, 15, 457])"
      ]
     },
     "execution_count": 7,
     "metadata": {},
     "output_type": "execute_result"
    }
   ],
   "source": [
    "stacked_isochrones.shape"
   ]
  },
  {
   "cell_type": "code",
   "execution_count": 16,
   "metadata": {},
   "outputs": [],
   "source": []
  },
  {
   "cell_type": "code",
   "execution_count": 17,
   "metadata": {},
   "outputs": [
    {
     "data": {
      "text/plain": [
       "(20.0, -15.0)"
      ]
     },
     "execution_count": 17,
     "metadata": {},
     "output_type": "execute_result"
    },
    {
     "data": {
      "image/png": "[encoded data removed]",
      "text/plain": [
       "<Figure size 720x720 with 1 Axes>"
      ]
     },
     "metadata": {
      "needs_background": "light"
     },
     "output_type": "display_data"
    }
   ],
   "source": [
    "isochrone=pd.DataFrame(np.array(stacked_isochrones[1000]).transpose(),columns=isoc_columns).dropna()\n",
    "fig = plt.figure(figsize=(6, 6), dpi=120)\n",
    "\n",
    "plt.scatter(isochrone['Gaia_BP_EDR3']-isochrone['Gaia_RP_EDR3'], isochrone['Gaia_G_EDR3'],\n",
    "                    )\n",
    "    \n",
    "    \n",
    "\n",
    "plt.title('Plot of all the isochrones available')\n",
    "plt.ylim(20, -15)"
   ]
  },
  {
   "cell_type": "code",
   "execution_count": 10,
   "metadata": {},
   "outputs": [],
   "source": [
    "def perpendicular_dist(i,age):\n",
    "\n",
    "    isochrone=torch.cat([x_values[i],stacked_isochrones[isochrone_selector(x_values[i][column_index('mh_gspphot') ][0],age)]],dim=0)\n",
    "    isochrone=isochrone.reshape((1,)+isochrone.shape)\n",
    "\n",
    "\n",
    "    truth_1=(isochrone[:,column_index('G'),:]+-(isochrone[:,column_index('bp_rp'),:])*isochrone[:,column_index('p_slopes'),:]<=isochrone[:,column_index('high_c'),:]) #box selection\n",
    "    truth_1=truth_1.reshape(truth_1.shape[0],1,truth_1.shape[1])\n",
    "    truth_2=(isochrone[:,column_index('low_c'),:]<=isochrone[:,column_index('G'),:]-(isochrone[:,column_index('bp_rp'),:])*isochrone[:,column_index('p_slopes'),:])\n",
    "    truth_2=truth_2.reshape(truth_2.shape[0],1,truth_2.shape[1])\n",
    "    truth=truth_1*truth_2\n",
    "    # ^box selection\n",
    "\n",
    "    # projection onto the nearest line\n",
    "    x=((1/torch.sqrt(1+isochrone[:,column_index('slopes'),:]**2))*(isochrone[:,column_index('G'),:]-(isochrone[:,column_index('bp_rp'),:])*isochrone[:,column_index('slopes'),:]-isochrone[:,column_index('Gaia_G_EDR3'),:] + isochrone[:,column_index('slopes'),:]*isochrone[:,column_index('BPRP'),:]))\n",
    "    # taking the minimum\n",
    "    idx=torch.argmin(torch.abs(x/truth.reshape(x.shape)).nan_to_num(nan=torch.inf),1)\n",
    "    x=x.gather(1,idx.view(-1,1))\n",
    "    #error needs to be corrected for absolute magnitude \n",
    "    x_err=(1/(1+isochrone[:,column_index('slopes'),:]**2))*isochrone[:,column_index('phot_g_mean_mag_error'),:]**2+(isochrone[:,column_index('slopes'),:]*isochrone[:,column_index('bp_rp_error'),:])**2\n",
    "    x_err=x_err.gather(1,idx.view(-1,1))\n",
    "    isochrone=torch.cat((isochrone,x.reshape(x.shape[0],1,x.shape[1]).repeat(1,1,(isochrone).shape[-1]),x_err.reshape(x_err.shape[0],1,x_err.shape[1]).repeat(1,1,(isochrone).shape[-1])),1)\n",
    "\n",
    "    dist=torch.distributions.multivariate_normal.MultivariateNormal(torch.zeros_like(x),torch.eye(len(x))+torch.diag(x_err**2))\n",
    "    \n",
    "    try:# serious issues here\n",
    "                \n",
    "        log_l=dist.log_prob(x)\n",
    "                \n",
    "\n",
    "    except:\n",
    "                \n",
    "        log_l=torch.inf\n",
    "\n",
    "    return log_l, isochrone            "
   ]
  },
  {
   "cell_type": "code",
   "execution_count": 11,
   "metadata": {},
   "outputs": [
    {
     "data": {
      "text/plain": [
       "(tensor([-17.2820], dtype=torch.float64),\n",
       " tensor([[[ 2.8261e+02,  2.8261e+02,  2.8261e+02,  ...,  2.8261e+02,\n",
       "            2.8261e+02,  2.8261e+02],\n",
       "          [-6.2239e+00, -6.2239e+00, -6.2239e+00,  ..., -6.2239e+00,\n",
       "           -6.2239e+00, -6.2239e+00],\n",
       "          [ 4.1497e-01,  4.1497e-01,  4.1497e-01,  ...,  4.1497e-01,\n",
       "            4.1497e-01,  4.1497e-01],\n",
       "          ...,\n",
       "          [-1.8768e+00,  4.3981e+00,  4.4364e+00,  ...,         nan,\n",
       "                   nan,         nan],\n",
       "          [ 5.7207e+00,  5.7207e+00,  5.7207e+00,  ...,  5.7207e+00,\n",
       "            5.7207e+00,  5.7207e+00],\n",
       "          [ 1.4755e-05,  1.4755e-05,  1.4755e-05,  ...,  1.4755e-05,\n",
       "            1.4755e-05,  1.4755e-05]]], dtype=torch.float64))"
      ]
     },
     "execution_count": 11,
     "metadata": {},
     "output_type": "execute_result"
    }
   ],
   "source": [
    "perpendicular_dist(1,6)"
   ]
  },
  {
   "cell_type": "markdown",
   "metadata": {},
   "source": [
    "# Find perpendicular distances over all ages"
   ]
  },
  {
   "cell_type": "code",
   "execution_count": 12,
   "metadata": {},
   "outputs": [],
   "source": [
    "log_l=[]\n",
    "isocs=[]\n",
    "massgrid = 10*np.linspace(np.log10(0.1),np.log10(10), 1000)\n",
    "logagegrid = np.linspace(5,10.3,105)\n",
    "for age in logagegrid:\n",
    "    output=perpendicular_dist(100,age)\n",
    "    log_l.append(output[0])\n",
    "    isocs.append(output[1])\n",
    "    "
   ]
  },
  {
   "cell_type": "code",
   "execution_count": 13,
   "metadata": {},
   "outputs": [
    {
     "data": {
      "text/plain": [
       "[inf,\n",
       " inf,\n",
       " inf,\n",
       " inf,\n",
       " inf,\n",
       " tensor([-2.7737], dtype=torch.float64),\n",
       " tensor([-1.0153], dtype=torch.float64),\n",
       " tensor([-2.6715], dtype=torch.float64),\n",
       " tensor([-3.3507], dtype=torch.float64),\n",
       " tensor([-0.9250], dtype=torch.float64),\n",
       " tensor([-4.7504], dtype=torch.float64),\n",
       " tensor([-11.7921], dtype=torch.float64),\n",
       " tensor([-0.9252], dtype=torch.float64),\n",
       " tensor([-9.6999], dtype=torch.float64),\n",
       " tensor([-9.5706], dtype=torch.float64),\n",
       " tensor([-1.7642], dtype=torch.float64),\n",
       " tensor([-9.4500], dtype=torch.float64),\n",
       " tensor([-9.3239], dtype=torch.float64),\n",
       " tensor([-3.0858], dtype=torch.float64),\n",
       " tensor([-1.8016], dtype=torch.float64),\n",
       " tensor([-5.5877], dtype=torch.float64),\n",
       " tensor([-1.5985], dtype=torch.float64),\n",
       " tensor([-0.9383], dtype=torch.float64),\n",
       " tensor([-5.3255], dtype=torch.float64),\n",
       " tensor([-5.3919], dtype=torch.float64),\n",
       " tensor([-0.9425], dtype=torch.float64),\n",
       " tensor([-1.8687], dtype=torch.float64),\n",
       " tensor([-2.5848], dtype=torch.float64),\n",
       " tensor([-9.6888], dtype=torch.float64),\n",
       " tensor([-2.5523], dtype=torch.float64),\n",
       " tensor([-9.5612], dtype=torch.float64),\n",
       " tensor([-2.5244], dtype=torch.float64),\n",
       " tensor([-9.4446], dtype=torch.float64),\n",
       " tensor([-1.4788], dtype=torch.float64),\n",
       " tensor([-1.9337], dtype=torch.float64),\n",
       " tensor([-1.5543], dtype=torch.float64),\n",
       " tensor([-1.0201], dtype=torch.float64),\n",
       " tensor([-9.3386], dtype=torch.float64),\n",
       " tensor([-1.5058], dtype=torch.float64),\n",
       " tensor([-1.0310], dtype=torch.float64),\n",
       " tensor([-9.4170], dtype=torch.float64),\n",
       " tensor([-2.5425], dtype=torch.float64),\n",
       " tensor([-2.5814], dtype=torch.float64),\n",
       " tensor([-1.3457], dtype=torch.float64),\n",
       " tensor([-1.0678], dtype=torch.float64),\n",
       " tensor([-2.0140], dtype=torch.float64),\n",
       " tensor([-0.9331], dtype=torch.float64),\n",
       " tensor([-1.1273], dtype=torch.float64),\n",
       " tensor([-2.0350], dtype=torch.float64),\n",
       " tensor([-0.9626], dtype=torch.float64),\n",
       " tensor([-2.4870], dtype=torch.float64),\n",
       " tensor([-0.9255], dtype=torch.float64),\n",
       " tensor([-2.0317], dtype=torch.float64),\n",
       " tensor([-1.7069], dtype=torch.float64),\n",
       " tensor([-0.9727], dtype=torch.float64),\n",
       " tensor([-0.9194], dtype=torch.float64),\n",
       " tensor([-242.4694], dtype=torch.float64),\n",
       " tensor([-4.7225], dtype=torch.float64),\n",
       " tensor([-3.7493], dtype=torch.float64),\n",
       " tensor([-0.9729], dtype=torch.float64),\n",
       " tensor([-0.9189], dtype=torch.float64),\n",
       " tensor([-0.9281], dtype=torch.float64),\n",
       " tensor([-1.1271], dtype=torch.float64),\n",
       " tensor([-0.9247], dtype=torch.float64),\n",
       " tensor([-1.3247], dtype=torch.float64),\n",
       " tensor([-1.6363], dtype=torch.float64),\n",
       " tensor([-4.5092], dtype=torch.float64),\n",
       " tensor([-1.3595], dtype=torch.float64),\n",
       " tensor([-1.2598], dtype=torch.float64),\n",
       " tensor([-1.1335], dtype=torch.float64),\n",
       " tensor([-1.1377], dtype=torch.float64),\n",
       " tensor([-1.0376], dtype=torch.float64),\n",
       " tensor([-0.9395], dtype=torch.float64),\n",
       " tensor([-0.9189], dtype=torch.float64),\n",
       " tensor([-0.9841], dtype=torch.float64),\n",
       " tensor([-1.2235], dtype=torch.float64),\n",
       " tensor([-1.5090], dtype=torch.float64),\n",
       " tensor([-17.0895], dtype=torch.float64),\n",
       " tensor([-0.9190], dtype=torch.float64),\n",
       " tensor([-15.6615], dtype=torch.float64),\n",
       " tensor([-0.9633], dtype=torch.float64),\n",
       " tensor([-1.7780], dtype=torch.float64),\n",
       " tensor([-1.0992], dtype=torch.float64),\n",
       " tensor([-2.8951], dtype=torch.float64),\n",
       " tensor([-1.5989], dtype=torch.float64),\n",
       " tensor([-0.9191], dtype=torch.float64),\n",
       " tensor([-0.9685], dtype=torch.float64),\n",
       " tensor([-7.2266], dtype=torch.float64),\n",
       " tensor([-6.0132], dtype=torch.float64),\n",
       " tensor([-2.0441], dtype=torch.float64),\n",
       " tensor([-1.9650], dtype=torch.float64),\n",
       " tensor([-6.9757], dtype=torch.float64),\n",
       " tensor([-11.8934], dtype=torch.float64),\n",
       " tensor([-1.5601], dtype=torch.float64),\n",
       " tensor([-1.3521], dtype=torch.float64),\n",
       " tensor([-17.3109], dtype=torch.float64),\n",
       " tensor([-3.9650], dtype=torch.float64),\n",
       " tensor([-1.6483], dtype=torch.float64),\n",
       " tensor([-4.5529], dtype=torch.float64),\n",
       " tensor([-4.7002], dtype=torch.float64),\n",
       " tensor([-1.3338], dtype=torch.float64),\n",
       " tensor([-1.4835], dtype=torch.float64),\n",
       " tensor([-6.7086], dtype=torch.float64),\n",
       " tensor([-2.1077], dtype=torch.float64),\n",
       " tensor([-2.1476], dtype=torch.float64)]"
      ]
     },
     "execution_count": 13,
     "metadata": {},
     "output_type": "execute_result"
    }
   ],
   "source": [
    "log_l"
   ]
  },
  {
   "cell_type": "code",
   "execution_count": 14,
   "metadata": {},
   "outputs": [],
   "source": [
    "def isoc_column_index(name):\n",
    "    if name in x_columns:\n",
    "        return np.where(np.array(x_columns)==name)[0][0]\n",
    "    else:\n",
    "        return np.where(np.array(isoc_columns)==name)[0][0]"
   ]
  },
  {
   "cell_type": "code",
   "execution_count": 15,
   "metadata": {},
   "outputs": [
    {
     "ename": "NameError",
     "evalue": "name 'n' is not defined",
     "output_type": "error",
     "traceback": [
      "\u001b[0;31m---------------------------------------------------------------------------\u001b[0m",
      "\u001b[0;31mNameError\u001b[0m                                 Traceback (most recent call last)",
      "\u001b[0;32m/var/folders/tm/gnjj0w_d6vj9x6q_ww3f6jsw0000gn/T/ipykernel_20517/217407671.py\u001b[0m in \u001b[0;36m<module>\u001b[0;34m\u001b[0m\n\u001b[0;32m----> 1\u001b[0;31m \u001b[0misochrone\u001b[0m\u001b[0;34m[\u001b[0m\u001b[0mcolumn_index\u001b[0m\u001b[0;34m(\u001b[0m\u001b[0;34m'Gaia_G_EDR3'\u001b[0m\u001b[0;34m)\u001b[0m\u001b[0;34m-\u001b[0m\u001b[0mn\u001b[0m\u001b[0;34m]\u001b[0m\u001b[0;34m\u001b[0m\u001b[0;34m\u001b[0m\u001b[0m\n\u001b[0m",
      "\u001b[0;31mNameError\u001b[0m: name 'n' is not defined"
     ]
    }
   ],
   "source": [
    "isochrone[column_index('Gaia_G_EDR3')-n]"
   ]
  },
  {
   "cell_type": "code",
   "execution_count": null,
   "metadata": {},
   "outputs": [
    {
     "data": {
      "text/plain": [
       "Text(0.5, 1.0, 'Plot of all the isochrones available')"
      ]
     },
     "execution_count": 22,
     "metadata": {},
     "output_type": "execute_result"
    },
    {
     "data": {
      "image/png": "[encoded data removed]",
      "text/plain": [
       "<Figure size 720x720 with 1 Axes>"
      ]
     },
     "metadata": {
      "needs_background": "light"
     },
     "output_type": "display_data"
    }
   ],
   "source": [
    "fig = plt.figure(figsize=(6, 6), dpi=120)\n",
    "n=len(x_columns)\n",
    "isochrone = stacked_isochrones[0]\n",
    "    \n",
    "plt.plot(isochrone[column_index('Gaia_BP_EDR3')-n]-isochrone[column_index('Gaia_RP_EDR3')-n], isochrone[column_index('Gaia_G_EDR3')-n])\n",
    "    \n",
    "    \n",
    "\n",
    "plt.title('Plot of all the isochrones available')\n"
   ]
  },
  {
   "cell_type": "code",
   "execution_count": null,
   "metadata": {},
   "outputs": [],
   "source": []
  }
 ],
 "metadata": {
  "kernelspec": {
   "display_name": "Python 3.8.12 ('astro')",
   "language": "python",
   "name": "python3"
  },
  "language_info": {
   "codemirror_mode": {
    "name": "ipython",
    "version": 3
   },
   "file_extension": ".py",
   "mimetype": "text/x-python",
   "name": "python",
   "nbconvert_exporter": "python",
   "pygments_lexer": "ipython3",
   "version": "3.8.12"
  },
  "orig_nbformat": 4,
  "vscode": {
   "interpreter": {
    "hash": "388258d5dbd248a427ffb3173d4e076e3a6ff0d999334480b98d684a9efba49c"
   }
  }
 },
 "nbformat": 4,
 "nbformat_minor": 2
}
